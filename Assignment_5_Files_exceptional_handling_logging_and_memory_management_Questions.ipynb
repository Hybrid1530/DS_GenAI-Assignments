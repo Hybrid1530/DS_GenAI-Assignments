{
  "nbformat": 4,
  "nbformat_minor": 0,
  "metadata": {
    "colab": {
      "provenance": [],
      "collapsed_sections": [
        "EdI-G7eerKbc"
      ]
    },
    "kernelspec": {
      "name": "python3",
      "display_name": "Python 3"
    },
    "language_info": {
      "name": "python"
    }
  },
  "cells": [
    {
      "cell_type": "markdown",
      "source": [
        "#Files, exceptional handling, logging and memory management Questions"
      ],
      "metadata": {
        "id": "EdI-G7eerKbc"
      }
    },
    {
      "cell_type": "markdown",
      "source": [
        "**1.What is the difference between interpreted and compiled languages?**\n",
        "\n",
        "->\n",
        "*   *Interpreted Language*\n",
        "1.   In interpreted language, code is executed line-by-line by the interpreter at runtime.\n",
        "2.  Execution is Slower, but faster development cycle.\n",
        "\n",
        "\n",
        "*   *Compiled Language*\n",
        "1.   In compiled language, the entire source code is translated into machine code (binary) using a compiler before it is run.\n",
        "2.   Faster execution, but slower development cycle.\n",
        "\n",
        "\n"
      ],
      "metadata": {
        "id": "f-Eotk7-rV3C"
      }
    },
    {
      "cell_type": "markdown",
      "source": [
        "**2.What is exception handling in Python?**\n",
        "\n",
        "->\n",
        "*    Exception handling allows us to handle runtime errors gracefully using try, except, else, and finally blocks.\n",
        "*   it allows the code to executely fully despiite being any error in the source code.\n",
        "*   the way of handling these erros is called as exception handling.\n",
        "\n"
      ],
      "metadata": {
        "id": "Vb-zt4UEriiL"
      }
    },
    {
      "cell_type": "markdown",
      "source": [
        "**3.What is the purpose of the finally block in exception handling?**\n",
        "\n",
        "->\n",
        "*   The Code inside finally will always executes, regardless of whether an exception occurred.\n",
        "*   It is Useful for cleanup actions like closing files or releasing resources.\n",
        "\n",
        "\n"
      ],
      "metadata": {
        "id": "I8DQoDB5rnEm"
      }
    },
    {
      "cell_type": "markdown",
      "source": [
        "**4.What is logging in Python?**\n",
        "\n",
        "->\n",
        "*   It is Used to track events in the program.\n",
        "*   Helpful for debugging or error reporting.\n",
        "*   It is done using the logging module.\n",
        "\n",
        "\n"
      ],
      "metadata": {
        "id": "MlLc2DC2rrNV"
      }
    },
    {
      "cell_type": "markdown",
      "source": [
        "**5.What is the significance of the __del__ method in Python?**\n",
        "\n",
        "->\n",
        "*   The __del__ method can be used as a safety net to close a file if it hasn't already been closed.\n",
        "*   It is called when an object is about to be destroyed.\n",
        "*   __del__ is not the preferred method for file closing.\" with\" is better.\n",
        "\n",
        "\n"
      ],
      "metadata": {
        "id": "Es4mJdqhrwAe"
      }
    },
    {
      "cell_type": "markdown",
      "source": [
        "**6.What is the difference between import and from ... import in Python?**\n",
        "\n",
        "->\n",
        "1.   *Import*\n",
        "*  It imports the entire module into the namespace.\n",
        "*  To use anything from the module, you must prefix it with the module name.\n",
        "\n",
        "Ex:\n",
        "        \n",
        "    import math\n",
        "    print(math.sqrt(25))  # Accessing sqrt using math.sqrt\n",
        "\n",
        "\n",
        "2. *from ... import*\n",
        "*  It import specific items from a module directly into the current namespace.\n",
        "*  We can use the imported names without prefixing the module.\n",
        "\n",
        "Ex:\n",
        "\n",
        "    from math import sqrt\n",
        "    print(sqrt(25))  # No need to use math.sqrt\n"
      ],
      "metadata": {
        "id": "GfmcmySKr0Ep"
      }
    },
    {
      "cell_type": "markdown",
      "source": [
        "**7.How can you handle multiple exceptions in Python?**\n",
        "\n",
        "->\n",
        "\n",
        "    try:\n",
        "      #  code\n",
        "    except (TypeError, ValueError) as e:\n",
        "      #possible errors the code could generate\n",
        "      print(e)\n"
      ],
      "metadata": {
        "id": "CdCdYt87r53V"
      }
    },
    {
      "cell_type": "markdown",
      "source": [
        "**8.What is the purpose of the with statement when handling files in Python?**\n",
        "\n",
        "->It ensures proper resource management. The file is closed automatically\n",
        "\n",
        "Ex:\n",
        "\n",
        "    with open(\"file.txt\", \"r\") as file:\n",
        "      content = file.read()"
      ],
      "metadata": {
        "id": "pfdEIUiKr-Zo"
      }
    },
    {
      "cell_type": "markdown",
      "source": [
        "**9.What is the difference between multithreading and multiprocessing?**\n",
        "\n",
        "->\n",
        "Multithreading: Multiple threads within a single process (shared memory).\n",
        "\n",
        "Multiprocessing: Multiple processes (separate memory).\n",
        "\n",
        "Ex:\n",
        "\n",
        "    from threading import Thread\n",
        "    from multiprocessing import Process\n"
      ],
      "metadata": {
        "id": "zPFHchwasCbE"
      }
    },
    {
      "cell_type": "markdown",
      "source": [
        "**10.What are the advantages of using logging in a program?**\n",
        "\n",
        "->\n",
        "* Records runtime information\n",
        "\n",
        "* Helps in debugging and auditing\n",
        "\n",
        "* More flexible than print statements"
      ],
      "metadata": {
        "id": "SB0PSp3nsF-y"
      }
    },
    {
      "cell_type": "markdown",
      "source": [
        "**11.What is memory management in Python?**\n",
        "\n",
        "->Python manages memory using reference counting and garbage collection to reclaim unused memory.\n"
      ],
      "metadata": {
        "id": "nwA590tmsMqX"
      }
    },
    {
      "cell_type": "markdown",
      "source": [
        "**12.What are the basic steps involved in exception handling in Python?**\n",
        "\n",
        "->\n",
        "* Try block with risky code\n",
        "\n",
        "* Except block to handle errors\n",
        "\n",
        "* Optional else\n",
        "\n",
        "* finally blocks"
      ],
      "metadata": {
        "id": "3LoaeGEVsQvT"
      }
    },
    {
      "cell_type": "markdown",
      "source": [
        "**13.Why is memory management important in Python?**\n",
        "\n",
        "->It prevents memory leaks and ensures efficient use of resources.\n"
      ],
      "metadata": {
        "id": "uJ1VYa_PsUta"
      }
    },
    {
      "cell_type": "markdown",
      "source": [
        "**14.What is the role of try and except in exception handling?**\n",
        "\n",
        "->They allow code to handle errors without crashing.\n",
        "\n",
        "Ex:\n",
        "\n",
        "    try:\n",
        "      a = 10 / 0\n",
        "    except ZeroDivisionError:\n",
        "      print(\"Division by zero\")"
      ],
      "metadata": {
        "id": "Wpyx0a_LsX1c"
      }
    },
    {
      "cell_type": "markdown",
      "source": [
        "**15.How does Python's garbage collection system work?**\n",
        "\n",
        "->Python uses reference counting and a cyclic garbage collector to manage memory.\n"
      ],
      "metadata": {
        "id": "2w7NdnqHsdSO"
      }
    },
    {
      "cell_type": "markdown",
      "source": [
        "**16.What is the purpose of the else block in exception handling?**\n",
        "\n",
        "->The else block is executed if no exceptions are raised,\n",
        "\n",
        "ex:\n",
        "\n",
        "    try:\n",
        "      x = 5\n",
        "    except:\n",
        "      print(\"Error\")\n",
        "    else:\n",
        "      print(\"No errors\")\n",
        "\n",
        "in the above code it will execute try: function ,else runs only if no exception occurs."
      ],
      "metadata": {
        "id": "G6F_JSe5sgpK"
      }
    },
    {
      "cell_type": "markdown",
      "source": [
        "**17.What are the common logging levels in Python?**\n",
        "\n",
        "->\n",
        "* DEBUG\n",
        "\n",
        "* INFO\n",
        "\n",
        "* WARNING\n",
        "\n",
        "* ERROR\n",
        "\n",
        "* CRITICAL"
      ],
      "metadata": {
        "id": "1WjC7fXIskO9"
      }
    },
    {
      "cell_type": "markdown",
      "source": [
        "**18.What is the difference between os.fork() and multiprocessing in Python?**\n",
        "\n",
        "->\n",
        "* os.fork() is Unix-only and low-level.\n",
        "\n",
        "* multiprocessing is cross-platform and high-level."
      ],
      "metadata": {
        "id": "a7dC9sg3vAVA"
      }
    },
    {
      "cell_type": "markdown",
      "source": [
        "**19.What is the importance of closing a file in Python?**\n",
        "\n",
        "->\n",
        "\n",
        "*  It releases system resources.\n",
        "*  It ensures data integrity."
      ],
      "metadata": {
        "id": "Lf7DxhBuvJCh"
      }
    },
    {
      "cell_type": "markdown",
      "source": [
        "20.What is the difference between file.read() and file.readline() in Python?\n",
        "\n",
        "->\n",
        "*   read(): Reads entire file\n",
        "*   readline(): Reads one line at a time\n",
        "\n"
      ],
      "metadata": {
        "id": "Gn2akCDXvPwK"
      }
    },
    {
      "cell_type": "markdown",
      "source": [
        "**21.What is the logging module in Python used for?**\n",
        "\n",
        "->It is used to record log messages for events and debugging."
      ],
      "metadata": {
        "id": "AuzsybHavUvb"
      }
    },
    {
      "cell_type": "markdown",
      "source": [
        "**22.What is the os module in Python used for in file handling?**\n",
        "\n",
        "->To interact with the operating system, such as working with files and directories.\n",
        "\n",
        "Ex:\n",
        "\n",
        "    import os\n",
        "    os.remove(\"file.txt\")\n"
      ],
      "metadata": {
        "id": "v0f3Vy1evZaN"
      }
    },
    {
      "cell_type": "markdown",
      "source": [
        "**23.What are the challenges associated with memory management in Python?**\n",
        "\n",
        "->\n",
        "*   Managing reference cycles\n",
        "\n",
        "*  Preventing memory leaks\n",
        "\n",
        "*  Controlling memory in large-scale applications\n"
      ],
      "metadata": {
        "id": "kxDHsgM_veRJ"
      }
    },
    {
      "cell_type": "markdown",
      "source": [
        "**24.How do you raise an exception manually in Python?**\n",
        "\n",
        "-> by Using the raise keyword.\n",
        "\n",
        "Ex:\n",
        "\n",
        "    if(TRUE):\n",
        "      raise ValueError(\"Invalid input\")"
      ],
      "metadata": {
        "id": "cWTZJuzOvhwj"
      }
    },
    {
      "cell_type": "markdown",
      "source": [
        "**25.Why is it important to use multithreading in certain applications?**\n",
        "\n",
        "-> Multithreading improves performance in I/O-bound applications by allowing multiple tasks to run concurrently."
      ],
      "metadata": {
        "id": "t69fnvPkvSvK"
      }
    },
    {
      "cell_type": "markdown",
      "source": [
        "#Practical Questions"
      ],
      "metadata": {
        "id": "m9KZSE0QrQCE"
      }
    },
    {
      "cell_type": "code",
      "source": [
        "# 1.How can you open a file for writing in Python and write a string to it\n",
        "with open(\"output.txt\", \"w\") as file:\n",
        "    file.write(\"Hello, Dev here.\\n\")\n",
        "    file.write(\"testing code.\")"
      ],
      "metadata": {
        "id": "IjpbqhDGxN6F"
      },
      "execution_count": 4,
      "outputs": []
    },
    {
      "cell_type": "code",
      "source": [
        "# 2.Write a Python program to read the contents of a file and print each line\n",
        "with open(\"output.txt\", \"r\") as file:\n",
        "    for line in file:\n",
        "        print(line.strip())"
      ],
      "metadata": {
        "colab": {
          "base_uri": "https://localhost:8080/"
        },
        "id": "TPdqJTq5xUdt",
        "outputId": "e1663aa2-152b-4cb5-9852-e2f366ad75f5"
      },
      "execution_count": 5,
      "outputs": [
        {
          "output_type": "stream",
          "name": "stdout",
          "text": [
            "Hello, Dev here.\n",
            "testing code.\n"
          ]
        }
      ]
    },
    {
      "cell_type": "code",
      "source": [
        "# 3.How would you handle a case where the file doesn't exist while trying to open it for reading\n",
        "try:\n",
        "    with open(\"input.txt\", \"r\") as file:\n",
        "        content = file.read()\n",
        "except FileNotFoundError:\n",
        "    print(\"File not found\")"
      ],
      "metadata": {
        "colab": {
          "base_uri": "https://localhost:8080/"
        },
        "id": "rHtWEr_Pxakb",
        "outputId": "f31bf8b7-c3b2-4e6a-a9bc-7554abd71e9c"
      },
      "execution_count": 6,
      "outputs": [
        {
          "output_type": "stream",
          "name": "stdout",
          "text": [
            "File not found\n"
          ]
        }
      ]
    },
    {
      "cell_type": "code",
      "source": [
        "# 4. Write a Python script that reads from one file and writes its content to another file\n",
        "with open(\"output.txt\", \"r\") as file1:\n",
        "    content = file1.read()\n",
        "\n",
        "with open(\"file2.txt\", \"w\") as file2:\n",
        "    file2.write(content)"
      ],
      "metadata": {
        "id": "6jt9M19axhaR"
      },
      "execution_count": 7,
      "outputs": []
    },
    {
      "cell_type": "code",
      "source": [
        "# 5.How would you catch and handle division by zero error in Python\n",
        "for i in range(-10, 10):\n",
        "    try:\n",
        "        result = i / (i + 1)\n",
        "        print(f\"{i}/{i+1}\")\n",
        "    except ZeroDivisionError:\n",
        "        print(\"Cannot divide by zero\")\n"
      ],
      "metadata": {
        "colab": {
          "base_uri": "https://localhost:8080/"
        },
        "id": "hXIAJGcexx6p",
        "outputId": "a042ff2b-41b7-4264-c13b-26b0ddd057d6"
      },
      "execution_count": 8,
      "outputs": [
        {
          "output_type": "stream",
          "name": "stdout",
          "text": [
            "-10/-9\n",
            "-9/-8\n",
            "-8/-7\n",
            "-7/-6\n",
            "-6/-5\n",
            "-5/-4\n",
            "-4/-3\n",
            "-3/-2\n",
            "-2/-1\n",
            "Cannot divide by zero\n",
            "0/1\n",
            "1/2\n",
            "2/3\n",
            "3/4\n",
            "4/5\n",
            "5/6\n",
            "6/7\n",
            "7/8\n",
            "8/9\n",
            "9/10\n"
          ]
        }
      ]
    },
    {
      "cell_type": "code",
      "source": [
        "# 6. Write a Python program that logs an error message to a log file when a division by zero exception occurs\n",
        "\n",
        "import logging\n",
        "logging.basicConfig(filename=\"zero_division.log\", level=logging.ERROR)\n",
        "\n",
        "try:\n",
        "    result = i / (i + 1)\n",
        "except ZeroDivisionError as err:\n",
        "  logging.error(\"zero_division.log: %s\", err)\n"
      ],
      "metadata": {
        "id": "YWiPXNzjyBG1"
      },
      "execution_count": 9,
      "outputs": []
    },
    {
      "cell_type": "code",
      "source": [
        "# 7. How do you log information at different levels (INFO, ERROR, WARNING) in Python using the logging module\n",
        "import logging\n",
        "logging.basicConfig(level=logging.DEBUG)\n",
        "\n",
        "logging.info(\"This is an informational message\")\n",
        "logging.warning(\"This is a warning message\")\n",
        "logging.error(\"This is an error message\")\n"
      ],
      "metadata": {
        "colab": {
          "base_uri": "https://localhost:8080/"
        },
        "id": "_avLVLsEyEtU",
        "outputId": "db02184f-648e-4dbd-f75f-7cb75b8f77df"
      },
      "execution_count": 10,
      "outputs": [
        {
          "output_type": "stream",
          "name": "stderr",
          "text": [
            "WARNING:root:This is a warning message\n",
            "ERROR:root:This is an error message\n"
          ]
        }
      ]
    },
    {
      "cell_type": "code",
      "source": [
        "# 8. Write a program to handle a file opening error using exception handling\n",
        "try:\n",
        "    with open(\"file1.txt\", \"r\") as f:\n",
        "        data = f.read()\n",
        "except IOError:\n",
        "    print(\"An error occurred trying to read the file.\")"
      ],
      "metadata": {
        "colab": {
          "base_uri": "https://localhost:8080/"
        },
        "id": "YXxD4a6syIoU",
        "outputId": "3da11926-d955-4f3a-d8ae-46e7b42b94cc"
      },
      "execution_count": 12,
      "outputs": [
        {
          "output_type": "stream",
          "name": "stdout",
          "text": [
            "An error occurred trying to read the file.\n"
          ]
        }
      ]
    },
    {
      "cell_type": "code",
      "source": [
        "# 9. How can you read a file line by line and store its content in a list in Python\n",
        "with open(\"file2.txt\", \"r\") as file:\n",
        "    lines = file.readlines()\n",
        "print(lines)"
      ],
      "metadata": {
        "colab": {
          "base_uri": "https://localhost:8080/"
        },
        "id": "D5V_YQ1kyNOB",
        "outputId": "96e7e3cf-bd8f-4951-d4c7-b38324f52e57"
      },
      "execution_count": 13,
      "outputs": [
        {
          "output_type": "stream",
          "name": "stdout",
          "text": [
            "['Hello, Dev here.\\n', 'testing code.']\n"
          ]
        }
      ]
    },
    {
      "cell_type": "code",
      "source": [
        "# 10. How can you append data to an existing file in Python\n",
        "with open(\"file3.txt\", \"a\") as file:\n",
        "    file.write(\"this a new added line.\\n\")\n",
        "\n",
        "    #line append has been successful\n",
        "with open(\"file3.txt\", \"r\") as file:\n",
        "    lines = file.readlines()\n",
        "print(lines)"
      ],
      "metadata": {
        "colab": {
          "base_uri": "https://localhost:8080/"
        },
        "id": "ny51Q6YtyR7U",
        "outputId": "fafb31ea-6089-4e27-c6e7-a4620680c78f"
      },
      "execution_count": 14,
      "outputs": [
        {
          "output_type": "stream",
          "name": "stdout",
          "text": [
            "['this a new added line.\\n']\n"
          ]
        }
      ]
    },
    {
      "cell_type": "code",
      "source": [
        "# 11. Write a Python program that uses a try-except block to handle an error when attempting to access a\n",
        "# dictionary key that doesn't exist\n",
        "my_dict = {\"name\": \"Dev\"}\n",
        "\n",
        "try:\n",
        "    print(my_dict[\"age\"])\n",
        "except KeyError:\n",
        "    print(\"Key does not exist\")"
      ],
      "metadata": {
        "colab": {
          "base_uri": "https://localhost:8080/"
        },
        "id": "_-qvPoHcyVsz",
        "outputId": "6866fc36-99e4-4fd0-f5fa-dbe81d0fa205"
      },
      "execution_count": 15,
      "outputs": [
        {
          "output_type": "stream",
          "name": "stdout",
          "text": [
            "Key does not exist\n"
          ]
        }
      ]
    },
    {
      "cell_type": "code",
      "source": [
        "# 12. Write a program that demonstrates using multiple except blocks to handle different types of exceptions\n",
        "try:\n",
        "    num = int(\"abc\")\n",
        "    result = 10 / 0\n",
        "except ValueError:\n",
        "    print(\"Invalid number\")\n",
        "except ZeroDivisionError:\n",
        "    print(\"Cannot divide by zero\")"
      ],
      "metadata": {
        "colab": {
          "base_uri": "https://localhost:8080/"
        },
        "id": "BYBAQgr6yagb",
        "outputId": "cb004f2c-3eab-49b5-b169-cc433a7e8fb9"
      },
      "execution_count": 16,
      "outputs": [
        {
          "output_type": "stream",
          "name": "stdout",
          "text": [
            "Invalid number\n"
          ]
        }
      ]
    },
    {
      "cell_type": "code",
      "source": [
        "# 13. How would you check if a file exists before attempting to read it in Python\n",
        "import os\n",
        "if os.path.exists(\"file1.txt\"):\n",
        "    with open(\"file1.txt\", \"r\") as file:\n",
        "        print(file.read())\n",
        "else:\n",
        "    print(\"File does not exist\")"
      ],
      "metadata": {
        "colab": {
          "base_uri": "https://localhost:8080/"
        },
        "id": "75uUxxocyeEV",
        "outputId": "a9744ea3-ed92-4e5a-edb2-bad8750a064a"
      },
      "execution_count": 17,
      "outputs": [
        {
          "output_type": "stream",
          "name": "stdout",
          "text": [
            "File does not exist\n"
          ]
        }
      ]
    },
    {
      "cell_type": "code",
      "source": [
        "# 14. Write a program that uses the logging module to log both informational and error messages\n",
        "import logging\n",
        "logging.basicConfig(filename=\"app.log\", level=logging.DEBUG)\n",
        "\n",
        "logging.info(\"Starting the program\")\n",
        "try:\n",
        "    x = 1 / 0\n",
        "except ZeroDivisionError:\n",
        "    logging.error(\"Tried to divide by zero\")"
      ],
      "metadata": {
        "colab": {
          "base_uri": "https://localhost:8080/"
        },
        "id": "NuIDaOSkyiGJ",
        "outputId": "0ebad9c3-9075-4f7d-de15-eb4ec4d8dce4"
      },
      "execution_count": 18,
      "outputs": [
        {
          "output_type": "stream",
          "name": "stderr",
          "text": [
            "ERROR:root:Tried to divide by zero\n"
          ]
        }
      ]
    },
    {
      "cell_type": "code",
      "source": [
        "# 15. Write a Python program that prints the content of a file and handles the case when the file is empty\n",
        "with open(\"file2.txt\", \"r\") as file:\n",
        "    content = file.read()\n",
        "    if content:\n",
        "        print(content)\n",
        "    else:\n",
        "        print(\"File is empty\")"
      ],
      "metadata": {
        "colab": {
          "base_uri": "https://localhost:8080/"
        },
        "id": "pXKkaQs9ylOa",
        "outputId": "fbfc11d2-71ee-4139-c9e2-14103d38ab2c"
      },
      "execution_count": 19,
      "outputs": [
        {
          "output_type": "stream",
          "name": "stdout",
          "text": [
            "Hello, Dev here.\n",
            "testing code.\n"
          ]
        }
      ]
    },
    {
      "cell_type": "code",
      "source": [
        "# 16. Demonstrate how to use memory profiling to check the memory usage of a small program\n",
        "\n",
        "!pip install memory-profiler\n",
        "\n",
        "from memory_profiler import memory_usage\n",
        "\n",
        "def create_list():\n",
        "    return [i for i in range(100000)]\n",
        "\n",
        "mem_usage = memory_usage(create_list)\n",
        "print(f\"Memory used: {max(mem_usage) - min(mem_usage):.4f} MiB\")\n"
      ],
      "metadata": {
        "colab": {
          "base_uri": "https://localhost:8080/"
        },
        "id": "0qrRYjGcyn91",
        "outputId": "ae4c815c-e33a-4bba-e310-bc8e8c67e072"
      },
      "execution_count": 20,
      "outputs": [
        {
          "output_type": "stream",
          "name": "stdout",
          "text": [
            "Collecting memory-profiler\n",
            "  Downloading memory_profiler-0.61.0-py3-none-any.whl.metadata (20 kB)\n",
            "Requirement already satisfied: psutil in /usr/local/lib/python3.11/dist-packages (from memory-profiler) (5.9.5)\n",
            "Downloading memory_profiler-0.61.0-py3-none-any.whl (31 kB)\n",
            "Installing collected packages: memory-profiler\n",
            "Successfully installed memory-profiler-0.61.0\n",
            "Memory used: 0.9844 MiB\n"
          ]
        }
      ]
    },
    {
      "cell_type": "code",
      "source": [
        "# 17. Write a Python program to create and write a list of numbers to a file, one number per line\n",
        "numbers = [1, 2, 3, 4, 5]\n",
        "\n",
        "with open(\"numbers.txt\", \"w\") as file:\n",
        "    for number in numbers:\n",
        "        file.write(f\"{number}\\n\")"
      ],
      "metadata": {
        "id": "yXKBcKa5yquk"
      },
      "execution_count": 21,
      "outputs": []
    },
    {
      "cell_type": "code",
      "source": [
        "# 18. How would you implement a basic logging setup that logs to a file with rotation after 1MB\n",
        "import logging\n",
        "from logging.handlers import RotatingFileHandler\n",
        "\n",
        "handler = RotatingFileHandler(\"rotating.log\", maxBytes=1_000_000, backupCount=3)\n",
        "logging.basicConfig(handlers=[handler], level=logging.INFO)\n",
        "\n",
        "logging.info(\"This is a rotating log message\")"
      ],
      "metadata": {
        "id": "PN7xeD7qytaA"
      },
      "execution_count": 22,
      "outputs": []
    },
    {
      "cell_type": "code",
      "source": [
        "# 19. Write a program that handles both IndexError and KeyError using a try-except block\n",
        "try:\n",
        "    lst = [1, 2, 3]\n",
        "    print(lst[5])\n",
        "    d = {\"a\": 1}\n",
        "    print(d[\"b\"])\n",
        "except IndexError:\n",
        "    print(\"List index out of range\")\n",
        "except KeyError:\n",
        "    print(\"Key not found\")"
      ],
      "metadata": {
        "colab": {
          "base_uri": "https://localhost:8080/"
        },
        "id": "K58xwgSqyyAs",
        "outputId": "d7033219-454b-438b-92e4-8019c9f6ff7c"
      },
      "execution_count": 23,
      "outputs": [
        {
          "output_type": "stream",
          "name": "stdout",
          "text": [
            "List index out of range\n"
          ]
        }
      ]
    },
    {
      "cell_type": "code",
      "source": [
        "# 20. How would you open a file and read its contents using a context manager in Python\n",
        "with open(\"file2.txt\", \"r\") as file:\n",
        "    content = file.read()\n",
        "    print(content)"
      ],
      "metadata": {
        "colab": {
          "base_uri": "https://localhost:8080/"
        },
        "id": "lMbFRFKdy1pB",
        "outputId": "cd09e0b8-1fd9-470d-ce36-e533799785b6"
      },
      "execution_count": 24,
      "outputs": [
        {
          "output_type": "stream",
          "name": "stdout",
          "text": [
            "Hello, Dev here.\n",
            "testing code.\n"
          ]
        }
      ]
    },
    {
      "cell_type": "code",
      "source": [
        "# 21. Write a Python program that reads a file and prints the number of occurrences of a specific word\n",
        "word = \"this\"\n",
        "count = 0\n",
        "\n",
        "with open(\"file3.txt\", \"r\") as file:\n",
        "    for line in file:\n",
        "        count += line.count(word)\n",
        "\n",
        "print(f\"'{word}' occurred {count} times\")"
      ],
      "metadata": {
        "colab": {
          "base_uri": "https://localhost:8080/"
        },
        "id": "y0FBhP9Ay6Dz",
        "outputId": "bcde059a-35c2-4453-a4b3-62235515211d"
      },
      "execution_count": 25,
      "outputs": [
        {
          "output_type": "stream",
          "name": "stdout",
          "text": [
            "'this' occurred 1 times\n"
          ]
        }
      ]
    },
    {
      "cell_type": "code",
      "source": [
        "# 22. How can you check if a file is empty before attempting to read its contents\n",
        "import os\n",
        "\n",
        "if os.path.getsize(\"file2.txt\") == 0:\n",
        "    print(\"File is empty\")\n",
        "else:\n",
        "    with open(\"file2.txt\", \"r\") as file:\n",
        "        print(file.read())"
      ],
      "metadata": {
        "colab": {
          "base_uri": "https://localhost:8080/"
        },
        "id": "EHteHtBVy9Hb",
        "outputId": "61fb9adb-a61f-4fff-c153-bbe21aa22d08"
      },
      "execution_count": 28,
      "outputs": [
        {
          "output_type": "stream",
          "name": "stdout",
          "text": [
            "Hello, Dev here.\n",
            "testing code.\n"
          ]
        }
      ]
    },
    {
      "cell_type": "code",
      "source": [
        "# 23. Write a Python program that writes to a log file when an error occurs during file handling.\n",
        "\n",
        "import logging\n",
        "logging.basicConfig(filename=\"file_error.log\", level=logging.ERROR)\n",
        "\n",
        "try:\n",
        "    with open(\"unknown.txt\", \"r\") as file:\n",
        "        content = file.read()\n",
        "except Exception as e:\n",
        "    logging.error(\"File handling error: %s\", e)"
      ],
      "metadata": {
        "colab": {
          "base_uri": "https://localhost:8080/"
        },
        "id": "VDtLNnehy_3n",
        "outputId": "26571bd6-590f-4d86-ed08-3b54c9f2e20f"
      },
      "execution_count": 29,
      "outputs": [
        {
          "output_type": "stream",
          "name": "stderr",
          "text": [
            "ERROR:root:File handling error: [Errno 2] No such file or directory: 'unknown.txt'\n"
          ]
        }
      ]
    }
  ]
}