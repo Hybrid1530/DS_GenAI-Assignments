{
  "nbformat": 4,
  "nbformat_minor": 0,
  "metadata": {
    "colab": {
      "provenance": []
    },
    "kernelspec": {
      "name": "python3",
      "display_name": "Python 3"
    },
    "language_info": {
      "name": "python"
    }
  },
  "cells": [
    {
      "cell_type": "markdown",
      "source": [
        "#Statistics Advance 1"
      ],
      "metadata": {
        "id": "3OnEXDj6nXBn"
      }
    },
    {
      "cell_type": "markdown",
      "source": [
        "**1.What is a random variable in probability theory ?**\n",
        "\n",
        "->\n",
        "- A random variable is a numerical quantity whose value is determined by the outcome of a random experiment.\n",
        "- It assigns a real number to each possible outcome in a sample space.\n",
        "- It is a function from the sample space to the set of real numbers.\n"
      ],
      "metadata": {
        "id": "hsAnJMFhnaeJ"
      }
    },
    {
      "cell_type": "markdown",
      "source": [
        "**2.What are the types of random variables ?**\n",
        "\n",
        "->\n",
        "1. Discrete Random Variable\n",
        "* Takes finite or countable number of distinct values,\n",
        "* Associated with discrete probability distributions,\n",
        "* Examples: Number of heads in coin tosses, number of students in a class, number of calls per hour.\n",
        "---\n",
        "2. Continuous Random Variable\n",
        "* Takes uncountably infinite values within an interval,\n",
        "* Associated with continuous probability distributions,\n",
        "* Examples: Height of students, weight of a person, temperature in a city.\n",
        "\n"
      ],
      "metadata": {
        "id": "R0_k0-AQnl1Q"
      }
    },
    {
      "cell_type": "markdown",
      "source": [
        "**3.What is the difference between discrete and continuous distribution?**\n",
        "\n",
        "->\n",
        "- Discrete distribution deals with countable outcomes\n",
        "- probabilities are assigned to exact values\n",
        "- Probability Mass Function (PMF) is used\n",
        "- The sum of probabilities  is 1\n",
        "---\n",
        "- Continuous distribution deals with uncountable (infinite) outcomes over an interval\n",
        "- probabilities are assigned to intervals, not exact values\n",
        "- Probability Density Function (PDF) is used\n",
        "- The area under the curve is 1"
      ],
      "metadata": {
        "id": "THw4nf1nIRz3"
      }
    },
    {
      "cell_type": "markdown",
      "source": [
        "**4.What are probability distribution functions (PDF)?**\n",
        "\n",
        "->A Probability Distribution Function (PDF) describes the likelihood of a continuous random variable taking on a particular value.It defines the probability density of the variable over its range."
      ],
      "metadata": {
        "id": "EVVzXIu9H9-3"
      }
    },
    {
      "cell_type": "markdown",
      "source": [
        "**5.How do cumulative distribution functions (CDF) differ from probability distribution functions (PDF)?**\n",
        "\n",
        "->\n",
        "- PDF gives the probability density at a specific point (for continuous variables).\n",
        "- PDF shows how probability is distributed across values.\n",
        "- PDF values can be greater than 1 (but area under the curve is 1).\n",
        "---\n",
        "- CDF gives the probability that a random variable is less than or equal to a specific value.\n",
        "- CDF shows how probability accumulates up to a point.\n",
        "- CDF values are always between 0 and 1."
      ],
      "metadata": {
        "id": "cijdPtbAHZ-8"
      }
    },
    {
      "cell_type": "markdown",
      "source": [
        "**6.What is a discrete uniform distribution?**\n",
        "\n",
        "->A discrete uniform distribution is a probability distribution where all possible outcomes are equally likely.\n",
        "- It applies to finite and countable outcomes.\n",
        "- Each outcome has the same constant probability.\n"
      ],
      "metadata": {
        "id": "q1XemcAgG8ob"
      }
    },
    {
      "cell_type": "markdown",
      "source": [
        "**7.What are the key properties of a Bernoulli distribution?**\n",
        "\n",
        "->The Bernoulli distribution models a single trial with only two possible outcomes:\n",
        "- Success (1) with probability 𝑝\n",
        "- Failure (0) with probability 1−𝑝\n",
        "- It is defined on the set {0, 1}\n",
        "- It has one parameter: 𝑝(probability of success)\n",
        "- Mean = 𝑝\n",
        "- Variance = 𝑝(1−𝑝)\n",
        "- It is symmetric when 𝑝=0.5 and skewed otherwise\n",
        "- It is a special case of the binomial distribution with 𝑛=1\n",
        "\n"
      ],
      "metadata": {
        "id": "B1fXvPPjFA5C"
      }
    },
    {
      "cell_type": "markdown",
      "source": [
        "**8.What is the binomial distribution, and how is it used in probability?**\n",
        "\n",
        "->The binomial distribution is a discrete probability distribution that models the number of successes in a fixed number of independent trials, where each trial has only two possible outcomes: success or failure.\n",
        "\n",
        "It is used in probability to calculate the likelihood of observing a specific number of successes in a fixed number of independent trials, where each trial has two possible outcomes (success or failure), and the probability of success remains constant.\n"
      ],
      "metadata": {
        "id": "QIkE5ZiREG4K"
      }
    },
    {
      "cell_type": "markdown",
      "source": [
        "**9.What is the Poisson distribution and where is it applied ?**\n",
        "\n",
        "->The Poisson distribution is a discrete probability distribution that models the number of times an event occurs in a fixed interval of time or space, under the condition that:\n",
        "- The events occur independently\n",
        "- The average rate (λ) of occurrence is constant\n",
        "- Two events cannot occur at exactly the same instant (i.e., they occur one at a time)\n",
        "\n",
        "The Poisson distribution is used to model rare or random events that occur over time or space. Common real-world applications include:\n",
        "- Queuing Theory: Number of calls received by a call center per minute\n",
        "-  Telecommunications: Number of messages sent over a network in a second\n",
        "\n"
      ],
      "metadata": {
        "id": "HJpBQcTFDfc9"
      }
    },
    {
      "cell_type": "markdown",
      "source": [
        "**10.What is a continuous uniform distribution?**\n",
        "\n",
        "->A continuous uniform distribution is a type of probability distribution in which all values within a certain interval are equally likely to occur. It is one of the simplest continuous probability distributions and is used to model complete randomness within a specified range.\n",
        "\n"
      ],
      "metadata": {
        "id": "o1n1doNQDORU"
      }
    },
    {
      "cell_type": "markdown",
      "source": [
        "**11.What are the characteristics of a normal distribution?**\n",
        "\n",
        "-> It has:mean (μ) of 0 ,standard deviation (σ) of 1.\n",
        "- Symmetrical bell-shaped curve\n",
        "- Centered at 0\n",
        "- Total area under the curve is 1\n",
        "- Follows the empirical rule:\n",
        "- 68% of values lie within ±1 standard deviation\n",
        "- 95% within ±2\n",
        "- 99.7% within ±3"
      ],
      "metadata": {
        "id": "oN9U9lk6CP4f"
      }
    },
    {
      "cell_type": "markdown",
      "source": [
        "**12.What is the standard normal distribution, and why is it important?**\n",
        "\n",
        "->The standard normal distribution is a specific type of normal distribution that has:mean (μ) of 0 ,standard deviation (σ) of 1.\n",
        "\n",
        "- Symmetrical bell-shaped curve\n",
        "- Centered at 0\n",
        "- Total area under the curve is 1\n",
        "- Follows the empirical rule:\n",
        "- 68% of values lie within ±1 standard deviation\n",
        "- 95% within ±2\n",
        "- 99.7% within ±3\n",
        "\n",
        "It is important because,\n",
        "- Basis for Z-scores:\n",
        "- Foundation for Inferential Statistics\n",
        "- Used in Central Limit Theorem (CLT)"
      ],
      "metadata": {
        "id": "efHlMmHaBYw9"
      }
    },
    {
      "cell_type": "markdown",
      "source": [
        "**13.What is the Central Limit Theorem (CLT), and why is it critical in statistics?**\n",
        "\n",
        "->The Central Limit Theorem states that if we take a large number of random samples from any population (regardless of its original distribution), then the sampling distribution of the sample mean will approach a normal distribution as the sample size increases — provided that the samples are independent and the population has a finite mean and variance.\n",
        "\n",
        "- It allows us to approximate the distribution of sample means using the normal distribution, even when the population is not normally distributed.\n",
        "- CLT is the basis for methods like,Confidence intervals,Z-tests and T-tests,Hypothesis testing"
      ],
      "metadata": {
        "id": "S_DsOgIEAV-_"
      }
    },
    {
      "cell_type": "markdown",
      "source": [
        "**14.How does the Central Limit Theorem relate to the normal distribution?**\n",
        "\n",
        "->The Central Limit Theorem (CLT) is a fundamental principle in statistics that explains why and how the normal distribution arises naturally in many situations, even when the original data is not normally distributed.\n",
        "\n",
        "When a large number of independent and identically distributed (i.i.d.) random variables are averaged (or summed), their sampling distribution will tend to follow a normal distribution, regardless of the shape of the original population distribution — provided certain conditions are met."
      ],
      "metadata": {
        "id": "DgWe_nAL_rQB"
      }
    },
    {
      "cell_type": "markdown",
      "source": [
        "**15.What is the application of Z statistics in hypothesis testing ?**\n",
        "\n",
        "->Z-statistics (or Z-tests) are used in hypothesis testing to determine whether there is enough evidence in a sample to infer that a certain condition is true for the entire population.\n",
        "\n",
        "It helps assess how far a sample statistic is from the hypothesized population parameter, in terms of standard deviations, under the assumption that the null hypothesis is true."
      ],
      "metadata": {
        "id": "Oh_ifsIJ-Y0o"
      }
    },
    {
      "cell_type": "markdown",
      "source": [
        "**16.How do you calculate a Z-score, and what does it represent?**\n",
        "\n",
        "->A Z-score, also called a standard score, is a statistical measure that indicates how many standard deviations a data point is from the mean of its distribution.\n",
        "It is used to standardize values so they can be compared across different datasets or distributions.\n",
        "\n",
        "A Z-score tells you the position of a value in a distribution relative to the mean, measured in standard deviations.\n",
        "It helps determine how unusual or typical a data point is within its distribution."
      ],
      "metadata": {
        "id": "lmjRqwrasv-8"
      }
    },
    {
      "cell_type": "markdown",
      "source": [
        "**17.What are point estimates and interval estimates in statistics?**\n",
        "\n",
        "->point estimates and interval estimates are two methods used to infer unknown population parameters (such as the population mean or proportion) from sample data.\n",
        "\n",
        "They differ in how they express the estimate:\n",
        "- A point estimate is a single value (statistic) calculated from sample data that serves as the best guess for an unknown population parameter.\n",
        "- An interval estimate provides a range of values (called a confidence interval) that is likely to contain the population parameter, along with a specified level of confidence (e.g., 90%, 95%)."
      ],
      "metadata": {
        "id": "YkK_mHJasS2M"
      }
    },
    {
      "cell_type": "markdown",
      "source": [
        "**18.What is the significance of confidence intervals in statistical analysis?**\n",
        "\n",
        "->A confidence interval (CI) is a range of values, derived from a sample statistic, that is used to estimate an unknown population parameter (such as the mean or proportion) with a certain level of confidence. It provides both an estimate and a measure of uncertainty around that estimate."
      ],
      "metadata": {
        "id": "EWQSdG2Ur9m1"
      }
    },
    {
      "cell_type": "markdown",
      "source": [
        "**19.What is the relationship between a Z-score and a confidence interval?**\n",
        "\n",
        "->A Z-score plays a crucial role in constructing a confidence interval, especially when the population standard deviation is known and the sampling distribution is assumed to be normal (or approximately normal via the Central Limit Theorem).\n",
        "\n",
        "The confidence interval estimates the range of values within which the true population parameter (like the mean) is likely to fall, and the Z-score determines the critical value that defines the width of that interval based on a given confidence level."
      ],
      "metadata": {
        "id": "-2POwtO2fzuq"
      }
    },
    {
      "cell_type": "markdown",
      "source": [
        "**20.How are Z-scores used to compare different distributions?**\n",
        "\n",
        "->Z-scores are used to standardize data from different distributions, allowing for direct comparison by measuring how far a value is from the mean in terms of standard deviations. This makes them especially useful when comparing performances or measurements across different scales or units."
      ],
      "metadata": {
        "id": "eTLYqtnjfXuh"
      }
    },
    {
      "cell_type": "markdown",
      "source": [
        "**21.What are the assumptions for applying the Central Limit Theorem?**\n",
        "\n",
        "->\n",
        "The Central Limit Theorem requires that the sample observations are\n",
        "- independent\n",
        "- identically distributed\n",
        "- come from a population with finite mean and variance.\n",
        "- the sample size is large\n",
        "\n",
        " the sampling distribution of the sample mean approximates a normal distribution, even if the original data is not normally distributed."
      ],
      "metadata": {
        "id": "qUIKq1TbcKEP"
      }
    },
    {
      "cell_type": "markdown",
      "source": [
        "**22.What is the concept of expected value in a probability distribution?**\n",
        "\n",
        "-> In the context of a probability distribution, the expected value is the weighted average of all possible values that a random variable can take, where the weights are the probabilities of those values occurring.\n",
        "\n",
        "The expected value is a key measure derived from a probability distribution that captures the average or central tendency of a random variable. It helps in making predictions about the outcome of random processes over time."
      ],
      "metadata": {
        "id": "h6WaKNvRZ2Sa"
      }
    },
    {
      "cell_type": "markdown",
      "source": [
        "**23.How does a probability distribution relate to the expected outcome of a random variable?**\n",
        "\n",
        "->A probability distribution describes how the probabilities are assigned to the possible values of a random variable. It tells us how likely each outcome is in a random experiment.\n",
        "\n",
        "The expected outcome, also known as the expected value or mathematical expectation, is the long-run average value of the random variable when an experiment is repeated many times. It is calculated using the values of the random variable and their corresponding probabilities from the probability distribution."
      ],
      "metadata": {
        "id": "OKuS90V9Yp93"
      }
    }
  ]
}