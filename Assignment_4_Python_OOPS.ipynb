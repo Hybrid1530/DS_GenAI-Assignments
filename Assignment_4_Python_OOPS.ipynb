{
  "nbformat": 4,
  "nbformat_minor": 0,
  "metadata": {
    "colab": {
      "provenance": [],
      "collapsed_sections": [
        "I51kEHMY20s5",
        "s7AhRt_Rcvm2"
      ]
    },
    "kernelspec": {
      "name": "python3",
      "display_name": "Python 3"
    },
    "language_info": {
      "name": "python"
    }
  },
  "cells": [
    {
      "cell_type": "markdown",
      "source": [
        "# Python OOPs Questions"
      ],
      "metadata": {
        "id": "I51kEHMY20s5"
      }
    },
    {
      "cell_type": "markdown",
      "source": [
        "**1.What is Object-Oriented Programming (OOP).**\n",
        "\n",
        "->\n",
        "*   Object-Oriented Programming (OOP) is a style or approach to writing and structuring code based on the concept of \"objects\". These objects can contain:\n",
        "*  Data (called attributes or properties)\n",
        "*  Code (called methods or functions)\n",
        "*  Core principles: Encapsulation, Inheritance, Polymorphism, Abstraction."
      ],
      "metadata": {
        "id": "yeSW1JTo29LI"
      }
    },
    {
      "cell_type": "markdown",
      "source": [
        "**2.What is a class in OOP?**\n",
        "\n",
        "->\n",
        "*  A class is a blueprint or template for creating objects.\n",
        "*  It defines what attributes and methods the objects created from it will have.\n",
        "*  class Dog:def bark(self):print(\"Pet\")\n",
        "\n"
      ],
      "metadata": {
        "id": "xGfHH50aXKnc"
      }
    },
    {
      "cell_type": "markdown",
      "source": [
        "**3.What is an object in OOP?**\n",
        "\n",
        "->\n",
        "*  An object is an instance of a class.\n",
        "*  Represents a entity created from the class template.\n",
        "*  It holds real values (data) and can perform actions (methods).\n",
        "*  we can create multiple objects from the same class."
      ],
      "metadata": {
        "id": "Scrh63I1XRm_"
      }
    },
    {
      "cell_type": "markdown",
      "source": [
        "**4.What is the difference between abstraction and encapsulation?**\n",
        "\n",
        "->Abstraction - Abstraction is,\n",
        "1.   Hiding complex implementation and showing only essential features.\n",
        "2.   To simplify interface and focus on what an object does.\n",
        "3.   For Abstraction  abc module over the base class.\n",
        "\n",
        "Encapsulation - Encapsulation is,\n",
        "1.   Hiding internal data and restricting direct access to it.\n",
        "2.   To protect data and ensure controlled access.\n",
        "3.   \"_\" for protected and \"__\" for private is used to encapsulate the attribute or method."
      ],
      "metadata": {
        "id": "czqcuoDVZ5uw"
      }
    },
    {
      "cell_type": "markdown",
      "source": [
        "**5.What are dunder methods in Python?**\n",
        "\n",
        "->\n",
        "*  Dunder methods are special built-in methods in Python that start and end with two underscores.\n",
        "*   \"__init__\", \"__str__\",\" __len__\", etc. they are used to customize object behavior.\n",
        "*  it is Used to define behavior of operators, object creation, etc."
      ],
      "metadata": {
        "id": "v65E7oShaNLp"
      }
    },
    {
      "cell_type": "markdown",
      "source": [
        "**6.Explain the concept of inheritance in OOP?**\n",
        "\n",
        "->Inheritance refers to process of child class receiving the properties of parent class.\n",
        "\n",
        "syntax:\n",
        "class ParentClass:\n",
        "\n",
        "  body of ParentClass\n",
        "\n",
        "class childClass(ParentClass):\n",
        "\n",
        "  body of childClass\n",
        "\n",
        "*Types of Inheritance:*\n",
        "1.   single inheritance - when a derived class has only one parent class.parent class will not have access to the property(method/attribute) of child class but child class will have access to both its owm class and parent's class.\n",
        "\n",
        "2.   multi-level inheritance - when we derive two or more class from only one parent class.it is said to be a mutlilevel inheritance.\n",
        "\n",
        "3.   multiple inheritance - one child class may inherit the propety of mutiple parent class.\n",
        "\n",
        "4.   hierarchical inheritance - it is when there is only one parent class and multiple lets say two more than two childclass.\n",
        "\n",
        "5.   hybrid inheritance - it is the multiple types or combination of different inheritance club together.\n",
        "\n",
        "\n"
      ],
      "metadata": {
        "id": "yVRClC7qaSvZ"
      }
    },
    {
      "cell_type": "markdown",
      "source": [
        "**7.What is polymorphism in OOP?**\n",
        "\n",
        "->Polymorphism means \"many forms\".\n",
        "\n",
        "*  In OOP, it allows the same interface (method name) to behave differently depending on the object (class) that is using it.\n",
        "*  It helps in code reusability, flexibility, and writing clean, extendable code."
      ],
      "metadata": {
        "id": "bx2_GGUVIZxe"
      }
    },
    {
      "cell_type": "markdown",
      "source": [
        "**8.How is encapsulation achieved in Python?**\n",
        "\n",
        "->\n",
        "*  Using private variables (__var) and getter/setter methods.\n",
        "   \n",
        "       class Account:\n",
        "          def __init__(self):\n",
        "            self.__balance = 100\n",
        "\n",
        "          def get_balance(self):\n",
        "            return self.__balance\n"
      ],
      "metadata": {
        "id": "k7iqSk-EIan_"
      }
    },
    {
      "cell_type": "markdown",
      "source": [
        "**9. What is a constructor in Python**\n",
        "\n",
        "->\n",
        "*  A constructor is the special method \" __init__()\" that gets called when an object is created.\n",
        "*  It initializes object attributes.\n",
        "\n",
        "Ex:\n",
        "\n",
        "    class Car:\n",
        "        def __init__(self, brand):\n",
        "            self.brand = brand\n"
      ],
      "metadata": {
        "id": "UNHFqCi3IbLs"
      }
    },
    {
      "cell_type": "markdown",
      "source": [
        "**10. What are class and static methods in Python?**\n",
        "\n",
        "->\n",
        "* @classmethod: Operates on the class, not the instance. First argument is cls.\n",
        "\n",
        "*  @staticmethod: Doesn’t take self or cls. Behaves like a normal function inside a class.\n",
        "\n",
        "Ex:\n",
        "class MyClass:\n",
        "\n",
        "    @classmethod\n",
        "    def cls_method(cls): pass\n",
        "\n",
        "    @staticmethod\n",
        "    def static_method(): pass\n"
      ],
      "metadata": {
        "id": "GLLrRFmBDjWO"
      }
    },
    {
      "cell_type": "markdown",
      "source": [
        "**11. What is method overloading in Python?**\n",
        "\n",
        "->\n",
        "* Python does not support traditional method overloading.\n",
        "* Achieved using default arguments or *args."
      ],
      "metadata": {
        "id": "uXYNfNPDMnMz"
      }
    },
    {
      "cell_type": "markdown",
      "source": [
        "**12.What is method overriding in OOP**\n",
        "\n",
        "->\n",
        "* Redefining a method in the child class.\n",
        "\n",
        "      class Parent:\n",
        "        def say(self):\n",
        "          print(\"Parent\")\n",
        "\n",
        "      class Child(Parent):\n",
        "         def say(self):\n",
        "           print(\"Child\")"
      ],
      "metadata": {
        "id": "VknKTEp6NrPT"
      }
    },
    {
      "cell_type": "markdown",
      "source": [
        "**13.What is a property decorator in Python**\n",
        "\n",
        "->\n",
        "* It is Used to turn a method into a property.\n",
        "\n",
        "      class Circle:\n",
        "        def __init__(self, radius):\n",
        "          self._radius = radius\n",
        "\n",
        "        @property\n",
        "        def area(self):\n",
        "          return 3.14 * self._radius ** 2\n"
      ],
      "metadata": {
        "id": "bmS0K2FDNsJX"
      }
    },
    {
      "cell_type": "markdown",
      "source": [
        "**14.Why is polymorphism important in OOP**\n",
        "\n",
        "->Polymorphism means \"many forms\".\n",
        "\n",
        "* Code Reusability\n",
        "\n",
        "* Reduces code duplication and enhances maintainability.\n",
        "\n",
        "* Flexibility and Extensibility\n",
        "\n",
        "* Supports Method Overriding\n"
      ],
      "metadata": {
        "id": "6ElInjgaNuNY"
      }
    },
    {
      "cell_type": "markdown",
      "source": [
        "**15.What is an Abstract Class in Python?**\n",
        "\n",
        "->\n",
        "* It is concept of hiding complex implementation.\n",
        "* abstract class should be always subclassed.\n",
        "* it Use abc module.\n",
        "\n",
        "      from abc import ABC, abstractmethod\n",
        "\n",
        "      class Shape(ABC):\n",
        "         @abstractmethod\n",
        "         def area(self):\n",
        "           pass\n"
      ],
      "metadata": {
        "id": "7DSEmnt8bkcN"
      }
    },
    {
      "cell_type": "markdown",
      "source": [
        "**16.What are the advantages of OOP**\n",
        "\n",
        "->\n",
        "* Modularity-Code is organized into self-contained units (classes).\n",
        "* Reusability-Existing classes can be reused through inheritance.\n",
        "* Encapsulation-Data and methods are bundled together,Internal state is protected from unauthorized access.\n",
        "* Polymorphism-Enables objects to be treated as instances of their parent class.\n",
        "\n",
        "\n"
      ],
      "metadata": {
        "id": "qEy377cfNvO6"
      }
    },
    {
      "cell_type": "markdown",
      "source": [
        "**17.What is multiple inheritance in Python**\n",
        "\n",
        "->\n",
        "* multiple inheritance can be defined as a class inheriting from multiple parent classes.\n",
        "\n",
        "      class A: pass\n",
        "      class B: pass\n",
        "      class C(A, B): pass\n"
      ],
      "metadata": {
        "id": "FzBXY4tZNv6g"
      }
    },
    {
      "cell_type": "markdown",
      "source": [
        "**18.What is the difference between a class variable and an instance variable**\n",
        "\n",
        "->\n",
        "* Class Variable:  is shared by all instances.\n",
        "* Instance Variable: is unique to each object.\n",
        "* to declare a instance variable self. is to be used before variable while declaring.\n",
        "\n",
        "      class Demo:\n",
        "        count = 0  # class variable\n",
        "\n",
        "        def __init__(self):\n",
        "          self.value = 5  # instance variable\n"
      ],
      "metadata": {
        "id": "mCF1ewy-NwaP"
      }
    },
    {
      "cell_type": "markdown",
      "source": [
        "**19.Explain the purpose of ‘’__str__’ and ‘__repr__’ ‘ methods in Python**\n",
        "\n",
        "->\n",
        "* __str__: User-friendly string.\n",
        "\n",
        "* __repr__: Developer-friendly, unambiguous string."
      ],
      "metadata": {
        "id": "y1t2IvkcNtFi"
      }
    },
    {
      "cell_type": "markdown",
      "source": [
        "**20.What is the significance of the ‘super()’ function in Python**\n",
        "\n",
        "->\n",
        "* It Calls a method from the parent class.\n",
        "* Often used in inheritance to call the parent constructor.\n",
        "\n",
        "Ex:\n",
        "\n",
        "    class Child(Parent):\n",
        "      def __init__(self):pass\n",
        "\n",
        "    class Child(Parent):\n",
        "       def __init__(self):\n",
        "          super().__init__()  # call Parent __init__\n"
      ],
      "metadata": {
        "id": "_ETpZy4fNw5y"
      }
    },
    {
      "cell_type": "markdown",
      "source": [
        "**21.What is the significance of the __del__ method in Python**\n",
        "\n",
        "->This is the destructor method. Called when an object is about to be destroyed.\n",
        "\n",
        "Ex:\n",
        "\n",
        "    def __del__(self):\n",
        "      print(\"Object is being deleted\")\n"
      ],
      "metadata": {
        "id": "PfndwSltNxWN"
      }
    },
    {
      "cell_type": "markdown",
      "source": [
        "**22.What is the difference between @staticmethod and @classmethod in Python**\n",
        "\n",
        "->\n",
        "@staticmethod,\n",
        "* Belongs to the class, but does not take self or cls as a parameter.\n",
        "\n",
        "* Behaves like a regular function that just happens to be inside a class.\n",
        "\n",
        "* Cannot access or modify instance (self) or class (cls) attributes.\n",
        "\n",
        "\n",
        "@classmethod,\n",
        "* Belongs to the class, and takes cls (the class itself) as the first parameter.\n",
        "\n",
        "* Can access or modify class-level data or call other class methods.\n",
        "\n",
        "* Commonly used for factory methods that return instances of the class.\n",
        "\n"
      ],
      "metadata": {
        "id": "ow4uhpMaNx7K"
      }
    },
    {
      "cell_type": "markdown",
      "source": [
        "**23.How does polymorphism work in Python with inheritance**\n",
        "\n",
        "->\n",
        "* Parent class reference can refer to child class objects.\n",
        "\n",
        "* Overridden methods get called dynamically."
      ],
      "metadata": {
        "id": "8bfzI0oANzvu"
      }
    },
    {
      "cell_type": "markdown",
      "source": [
        "**24.What is method chaining in Python OOP**\n",
        "\n",
        "->When methods return self, allowing multiple method calls in a single line can be defind as methoda chaining.\n",
        "\n",
        "Ex:\n",
        "\n",
        "    class Person:\n",
        "\n",
        "    def set_age(self, age):\n",
        "        self.age = age\n",
        "        return self\n",
        "    \n",
        "    def set_year(self, year):\n",
        "      self.year = year\n",
        "      return self\n",
        "\n",
        "    p = Person().set_age(23).set_year(2002)\n"
      ],
      "metadata": {
        "id": "ZStDGNKyNzFI"
      }
    },
    {
      "cell_type": "markdown",
      "source": [
        "**25. What is the purpose of the __call__ method in Python**\n",
        "\n",
        "->\"__call__ method \" makes an object callable like a function.\n",
        "\n",
        "Ex:\n",
        "\n",
        "    class Printer:\n",
        "      def __call__(self, text):\n",
        "        print(text)\n",
        "\n",
        "    p = Printer()\n",
        "    p(\"Hello\")  \n",
        "* p(\"Hello\") Acts like a function, we can directly pass the argument to the object."
      ],
      "metadata": {
        "id": "8rJHXpyZNyWR"
      }
    },
    {
      "cell_type": "markdown",
      "source": [
        "#Practical Quesions"
      ],
      "metadata": {
        "id": "s7AhRt_Rcvm2"
      }
    },
    {
      "cell_type": "code",
      "source": [
        "#  1. Create a parent class Animal with a method speak() that prints a generic message. Create a child class Dog\n",
        "# that overrides the speak() method to print \"Bark!\".\n",
        "\n",
        "class Animal:\n",
        "  def speak(self):\n",
        "    print(\"Inside animal class\")\n",
        "\n",
        "class Dog(Animal):\n",
        "  def speak(self):\n",
        "    print(\"Bark\")\n",
        "\n",
        "a1=Dog()\n",
        "\n",
        "a1.speak()\n",
        "\n"
      ],
      "metadata": {
        "colab": {
          "base_uri": "https://localhost:8080/"
        },
        "id": "5DgH5Cbwc3RI",
        "outputId": "dcc4c09c-e8de-458b-b1a2-6c5c5b5a67c6"
      },
      "execution_count": null,
      "outputs": [
        {
          "output_type": "stream",
          "name": "stdout",
          "text": [
            "Bark\n"
          ]
        }
      ]
    },
    {
      "cell_type": "code",
      "source": [
        "#  2. Write a program to create an abstract class Shape with a method area(). Derive classes Circle and Rectangle\n",
        "# from it and implement the area() method in both.\n",
        "\n",
        "import abc\n",
        "\n",
        "class Shape:\n",
        "\n",
        "  @abc.abstractmethod\n",
        "  def area(self):\n",
        "    pass\n",
        "\n",
        "class circle(Shape):\n",
        "  def area(self):\n",
        "    return \" area of square is pi*r*r\"\n",
        "\n",
        "class Rectangle(Shape):\n",
        "  def area(self):\n",
        "    return \" area of square is length*breadth\"\n",
        "\n",
        "area1=circle()\n",
        "area1.area()\n",
        "\n",
        "area2=Rectangle()\n",
        "area2.area()"
      ],
      "metadata": {
        "colab": {
          "base_uri": "https://localhost:8080/",
          "height": 35
        },
        "id": "kYd7xv8Dfjf_",
        "outputId": "9d025c34-c45c-41d9-d03b-38e9dc93a122"
      },
      "execution_count": null,
      "outputs": [
        {
          "output_type": "execute_result",
          "data": {
            "text/plain": [
              "' area of square is length*breadth'"
            ],
            "application/vnd.google.colaboratory.intrinsic+json": {
              "type": "string"
            }
          },
          "metadata": {},
          "execution_count": 52
        }
      ]
    },
    {
      "cell_type": "code",
      "source": [
        "\n",
        "#  3. Implement a multi-level inheritance scenario where a class Vehicle has an attribute type. Derive a class Car\n",
        "# and further derive a class ElectricCar that adds a battery attribute.\n",
        "\n",
        "class Vehicle:\n",
        "  def __init__(self,type):\n",
        "    self.type=type\n",
        "\n",
        "class Car(Vehicle):\n",
        "  def __init__(self,type,brand):\n",
        "    super().__init__(type)\n",
        "    self.brand=brand\n",
        "\n",
        "class ElectricCar(Car):\n",
        "  def __init__(self,type,brand,battery):\n",
        "    super().__init__(type,brand)\n",
        "    self.battery=battery\n",
        "\n",
        "\n",
        "e_car = ElectricCar(\"Four-wheeler\", \"Tata\", \"500 kWh\")\n",
        "\n",
        "# Accessing attributes\n",
        "print(\"Type:\", e_car.type)        # Inherited from Vehicle\n",
        "print(\"Brand:\", e_car.brand)      # Inherited from Car\n",
        "print(\"Battery:\", e_car.battery)  # Defined in ElectricCar"
      ],
      "metadata": {
        "colab": {
          "base_uri": "https://localhost:8080/"
        },
        "id": "WCXOMMDklld2",
        "outputId": "09666ec9-ecd5-4290-9ae7-4d7c15635b97"
      },
      "execution_count": null,
      "outputs": [
        {
          "output_type": "stream",
          "name": "stdout",
          "text": [
            "Type: Four-wheeler\n",
            "Brand: Tata\n",
            "Battery: 500 kWh\n"
          ]
        }
      ]
    },
    {
      "cell_type": "code",
      "source": [
        "# 4.Demonstrate polymorphism by creating a base class Bird with a method fly(). Create two derived classes\n",
        "# Sparrow and Penguin that override the fly() method.\n",
        "\n",
        "class Bird:\n",
        "  def fly(self):\n",
        "    return \"Base Class\"\n",
        "\n",
        "class Sparrow(Bird):\n",
        "  def fly(self):\n",
        "    return \"Sparrow class\"\n",
        "\n",
        "class Penguin(Bird):\n",
        "  def fly(self):\n",
        "    return \"Penguin class\"\n",
        "\n",
        "birdy=Bird()\n",
        "bird1=Sparrow()\n",
        "bird2=Penguin()\n",
        "\n",
        "l=[birdy,bird1,bird2]\n",
        "\n",
        "for i in l:\n",
        "  print(i.fly())\n",
        "\n"
      ],
      "metadata": {
        "colab": {
          "base_uri": "https://localhost:8080/"
        },
        "id": "QisNmxaBqGgb",
        "outputId": "7bcff7cf-d8ef-40ce-f7db-96b828b0526a"
      },
      "execution_count": null,
      "outputs": [
        {
          "output_type": "stream",
          "name": "stdout",
          "text": [
            "Base Class\n",
            "Sparrow class\n",
            "Penguin class\n"
          ]
        }
      ]
    },
    {
      "cell_type": "code",
      "source": [
        "# 5. Write a program to demonstrate encapsulation by creating a class BankAccount with private attributes\n",
        "# balance and methods to deposit, withdraw, and check balance.\n",
        "\n",
        "class BankAccount:\n",
        "  def __init__(self):\n",
        "      self.__balance = 0\n",
        "\n",
        "  def deposit(self,amount):\n",
        "    if amount > 0:\n",
        "      self.__balance=self.__balance + amount\n",
        "      return \"Amount Deposited successfully \"\n",
        "    else:\n",
        "      return \"Enter a positive amount.\"\n",
        "\n",
        "  def withdraw(self,amount):\n",
        "    if amount > self.__balance:\n",
        "      return \"Insufficient Balance\"\n",
        "\n",
        "    elif amount <= 0:\n",
        "      return \"Enter a positive amount to withdraw.\"\n",
        "\n",
        "    else:\n",
        "      self.__balance = self.__balance - amount\n",
        "      return \"Amount Withdrawal successfull \"\n",
        "\n",
        "  def check_balance(self):\n",
        "    return f\"Your total balance is: {self.__balance}\"\n",
        "\n",
        "account1=BankAccount()\n",
        "\n",
        "\n",
        "print(account1.deposit(1000))\n",
        "print(account1.withdraw(500))\n",
        "print(account1.check_balance())\n"
      ],
      "metadata": {
        "colab": {
          "base_uri": "https://localhost:8080/"
        },
        "id": "FGyIOiQksGJp",
        "outputId": "3f7cdb18-133d-4894-e5da-bd580e6b5a36"
      },
      "execution_count": null,
      "outputs": [
        {
          "output_type": "stream",
          "name": "stdout",
          "text": [
            "Amount Deposited successfully \n",
            "Amount Withdrawal successfull \n",
            "Your total balance is: 500\n"
          ]
        }
      ]
    },
    {
      "cell_type": "code",
      "source": [
        "#  6. Demonstrate runtime polymorphism using a method play() in a base class Instrument. Derive classes Guitar\n",
        "# and Piano that implement their own version of play().\n",
        "\n",
        "class Instrument:\n",
        "  def play(self):\n",
        "    return \"Inside Base class 'Instrument' \"\n",
        "\n",
        "class Guitar(Instrument):\n",
        "  def play(self):\n",
        "    return \"Inside guitar class\"\n",
        "\n",
        "class Piano(Instrument):\n",
        "  def play(self):\n",
        "    return \" Inside Piano class\"\n",
        "\n",
        "def start_play(instrument):\n",
        "    return instrument.play()\n",
        "\n",
        "\n",
        "g = Guitar()\n",
        "p = Piano()\n",
        "\n",
        "print(start_play(g))\n",
        "print(start_play(p))"
      ],
      "metadata": {
        "colab": {
          "base_uri": "https://localhost:8080/"
        },
        "id": "q3BRFJMmwcEG",
        "outputId": "b52d5837-2aec-43e5-a8ec-39ae6200e0ed"
      },
      "execution_count": null,
      "outputs": [
        {
          "output_type": "stream",
          "name": "stdout",
          "text": [
            "Inside guitar class\n",
            " Inside Piano class\n"
          ]
        }
      ]
    },
    {
      "cell_type": "code",
      "source": [
        "#  7. Create a class MathOperations with a class method add_numbers() to add two numbers and a static\n",
        "# method subtract_numbers() to subtract two numbers.\n",
        "\n",
        "class MathOperations:\n",
        "\n",
        "  @classmethod\n",
        "  def add_numbers(cls, a, b):\n",
        "      return a + b\n",
        "\n",
        "  @staticmethod\n",
        "  def subtract_numbers(x, y):\n",
        "      return x-y\n",
        "\n",
        "print(\"Class method for adding numbers:\",MathOperations.add_numbers(2, 2) )\n",
        "print(\"Static method for subtracting numbers:\",MathOperations.subtract_numbers(10,2))"
      ],
      "metadata": {
        "colab": {
          "base_uri": "https://localhost:8080/"
        },
        "id": "6MjHsTh4yXQY",
        "outputId": "aa33a57e-4f02-4fa4-9d80-f6322a1c4117"
      },
      "execution_count": null,
      "outputs": [
        {
          "output_type": "stream",
          "name": "stdout",
          "text": [
            "Class method for adding numbers: 4\n",
            "Static method for subtracting numbers: 8\n"
          ]
        }
      ]
    },
    {
      "cell_type": "code",
      "source": [
        "#  8.Implement a class Person with a class method to count the total number of persons created\n",
        "\n",
        "class Person:\n",
        "  count = 0\n",
        "  def __init__(self, name):\n",
        "      self.name = name\n",
        "      Person.count += 1  #total_student is the class variable associated with all the instances\n",
        "\n",
        "  @classmethod\n",
        "  def total_Person(cls):\n",
        "      return cls.count\n",
        "\n",
        "\n",
        "p1 = Person(\"dev\")\n",
        "p2 = Person(\"raj\")\n",
        "p3 = Person(\"kumar\")\n",
        "\n",
        "print(Person.total_Person())\n"
      ],
      "metadata": {
        "colab": {
          "base_uri": "https://localhost:8080/"
        },
        "id": "9KbwWXxt3rxq",
        "outputId": "98114ae2-4936-43c2-99b8-67e75592cb61"
      },
      "execution_count": null,
      "outputs": [
        {
          "output_type": "stream",
          "name": "stdout",
          "text": [
            "3\n"
          ]
        }
      ]
    },
    {
      "cell_type": "code",
      "source": [
        "#  9. Write a class Fraction with attributes numerator and denominator. Override the str method to display the\n",
        "# fraction as \"numerator/denominator\".\n",
        "\n",
        "\n",
        "class Fraction:\n",
        "    def __init__(self, numerator, denominator):\n",
        "        if denominator == 0:\n",
        "            raise ValueError(\"Denominator cannot be zero.\")\n",
        "        self.numerator = numerator\n",
        "        self.denominator = denominator\n",
        "\n",
        "    def __str__(self):\n",
        "        return f\"{self.numerator}/{self.denominator}\"\n",
        "\n",
        "\n",
        "f1 = Fraction(3, 5)\n",
        "print(f1)\n",
        "\n",
        "\n",
        "\n"
      ],
      "metadata": {
        "colab": {
          "base_uri": "https://localhost:8080/"
        },
        "id": "F8-StBJhovuf",
        "outputId": "5ef964da-d449-4c53-a056-cc4600dde367"
      },
      "execution_count": null,
      "outputs": [
        {
          "output_type": "stream",
          "name": "stdout",
          "text": [
            "3/5\n"
          ]
        }
      ]
    },
    {
      "cell_type": "code",
      "source": [
        "# 10. Demonstrate operator overloading by creating a class Vector and overriding the add method to add two\n",
        "# vectors.\n",
        "\n",
        "class Vector:\n",
        "    def __init__(self, x, y):\n",
        "        self.x = x\n",
        "        self.y = y\n",
        "\n",
        "    def __add__(self, other):\n",
        "        return Vector(self.x + other.x, self.y + other.y)\n",
        "\n",
        "    def __repr__(self):\n",
        "        \"\"\"Unambiguous representation for debugging / interactive use.\"\"\"\n",
        "        return f\"Vector({self.x}, {self.y})\"\n",
        "\n",
        "# Example usage\n",
        "v1 = Vector(2, 3)\n",
        "v2 = Vector(4, 5)\n",
        "\n",
        "v3 = v1 + v2\n",
        "print(v3)\n",
        "\n",
        "\n",
        "\n"
      ],
      "metadata": {
        "colab": {
          "base_uri": "https://localhost:8080/"
        },
        "id": "AiUg7pZBTXvo",
        "outputId": "79837131-64da-4c90-aa30-59263fa01ba9"
      },
      "execution_count": null,
      "outputs": [
        {
          "output_type": "stream",
          "name": "stdout",
          "text": [
            "Vector(6, 8)\n"
          ]
        }
      ]
    },
    {
      "cell_type": "code",
      "source": [
        "# 11. Create a class Person with attributes name and age. Add a method greet() that prints \"Hello, my name is\n",
        "# {name} and I am {age} years old.\"\n",
        "\n",
        "class Person:\n",
        "  def __init__(self,name,age):\n",
        "    self.name = name\n",
        "    self.age = age\n",
        "\n",
        "  def greet(self):\n",
        "    return f\"Hello, my name is {self.name} and I am {self.age} years old.\"\n",
        "\n",
        "p1=Person(\"Dev\",23)\n",
        "p1.greet()"
      ],
      "metadata": {
        "colab": {
          "base_uri": "https://localhost:8080/",
          "height": 35
        },
        "id": "yFnQFn19RFRy",
        "outputId": "8b31331e-63c0-436a-c79b-b32d04c264ed"
      },
      "execution_count": null,
      "outputs": [
        {
          "output_type": "execute_result",
          "data": {
            "text/plain": [
              "'\"Hello, my name is Dev and I am 23 years old.\"'"
            ],
            "application/vnd.google.colaboratory.intrinsic+json": {
              "type": "string"
            }
          },
          "metadata": {},
          "execution_count": 9
        }
      ]
    },
    {
      "cell_type": "code",
      "source": [
        "#  12. Implement a class Student with attributes name and grades. Create a method average_grade() to compute\n",
        "# the average of the grades.\n",
        "\n",
        "class Student:\n",
        "  def __init__(self,name,grades):\n",
        "    self.name = name\n",
        "    self.grades = grades\n",
        "\n",
        "  def average_grade(self):\n",
        "    Avg= sum(self.grades)/len(self.grades)\n",
        "    return Avg\n",
        "\n",
        "s1=Student(\"Raj\",[50,70,80,90,55])\n",
        "\n",
        "print(f\"{s1.average_grade():.2f} is average  grades of {s1.name}\")"
      ],
      "metadata": {
        "colab": {
          "base_uri": "https://localhost:8080/"
        },
        "id": "sgz1zACTMNHp",
        "outputId": "a9e844cf-a13f-445c-ffb3-3677a4481c6d"
      },
      "execution_count": null,
      "outputs": [
        {
          "output_type": "stream",
          "name": "stdout",
          "text": [
            "69.00 is average  grades of Raj\n"
          ]
        }
      ]
    },
    {
      "cell_type": "code",
      "source": [
        "# 13. Create a class Rectangle with methods set_dimensions() to set the dimensions and area() to calculate the\n",
        "# area.\n",
        "\n",
        "class Rectangle:\n",
        "  def __init__(self):\n",
        "    self.length = 0\n",
        "    self.width = 0\n",
        "\n",
        "  def set_dimensions(self,length,width):\n",
        "    self.length = length\n",
        "    self.width = width\n",
        "\n",
        "  def area(self):\n",
        "    return self.length * self.width\n",
        "\n",
        "area1=Rectangle()\n",
        "area1.set_dimensions(2,5)\n",
        "\n",
        "print(f\"Calculated area of rectangle is {area1.area()}\")"
      ],
      "metadata": {
        "colab": {
          "base_uri": "https://localhost:8080/"
        },
        "id": "jYy0i7daJm3T",
        "outputId": "ee7ed5f1-06a3-4e1a-80e4-91c2d5d9c598"
      },
      "execution_count": null,
      "outputs": [
        {
          "output_type": "stream",
          "name": "stdout",
          "text": [
            "Calculated area of rectangle is 10\n"
          ]
        }
      ]
    },
    {
      "cell_type": "code",
      "source": [
        "#  14. Create a class Employee with a method calculate_salary() that computes the salary based on hours worked\n",
        "# and hourly rate. Create a derived class Manager that adds a bonus to the salary.\n",
        "\n",
        "class Employee:\n",
        "\n",
        "  def __init__(self,hours_worked,hourly_rate):\n",
        "    self.hours_worked=hours_worked\n",
        "    self.hourly_rate=hourly_rate\n",
        "\n",
        "  def calculate_salary(self):\n",
        "    salary = self.hours_worked * self.hourly_rate\n",
        "    return salary\n",
        "\n",
        "class Manager(Employee):\n",
        "  def __init__(self,hours_worked,hourly_rate,bonus):\n",
        "    super().__init__(hours_worked,hourly_rate)\n",
        "    self.bonus = bonus\n",
        "\n",
        "  def calculate_salary(self):\n",
        "      base_salary = super().calculate_salary()\n",
        "      total_salary = base_salary + self.bonus\n",
        "      return total_salary\n",
        "\n",
        "\n",
        "e1=Employee(70,70)\n",
        "print(f\"Employee base salary is {e1.calculate_salary()}\")\n",
        "\n",
        "e2=Manager(70,70,200)\n",
        "print(f\"Emplyee salary with bonus is {e2.calculate_salary()}\")"
      ],
      "metadata": {
        "colab": {
          "base_uri": "https://localhost:8080/"
        },
        "id": "3JDhjQBOtLJe",
        "outputId": "8f75436d-3f0b-4585-ed16-5dabf03e3fa6"
      },
      "execution_count": null,
      "outputs": [
        {
          "output_type": "stream",
          "name": "stdout",
          "text": [
            "Employee base salary is 4900\n",
            "Emplyees salary with bonus is 5100\n"
          ]
        }
      ]
    },
    {
      "cell_type": "code",
      "source": [
        "# 15. Create a class Product with attributes name, price, and quantity. Implement a method total_price() that\n",
        "# calculates the total price of the product.\n",
        "\n",
        "class Product:\n",
        "  def __init__(self,name, price, quantity):\n",
        "    self.name=name\n",
        "    self.price=price\n",
        "    self.quantity=quantity\n",
        "\n",
        "  def total_price(self):\n",
        "    bill=self.price * self.quantity\n",
        "    return bill\n",
        "\n",
        "customer1=Product(\"Tshirt\",399,4)\n",
        "\n",
        "print(f\"Total price of {customer1.name} is RS:{customer1.total_price():.2f}\")"
      ],
      "metadata": {
        "colab": {
          "base_uri": "https://localhost:8080/"
        },
        "id": "_-luQUpLrDv3",
        "outputId": "f13e3972-64cf-4330-cceb-42bcb10e4d5d"
      },
      "execution_count": null,
      "outputs": [
        {
          "output_type": "stream",
          "name": "stdout",
          "text": [
            "Total price of Tshirt is RS:1596.00\n"
          ]
        }
      ]
    },
    {
      "cell_type": "code",
      "source": [
        "#  16. Create a class Animal with an abstract method sound(). Create two derived classes Cow and Sheep that\n",
        "# implement the sound() method.\n",
        "import abc\n",
        "\n",
        "class Animal:\n",
        "  @abc.abstractmethod\n",
        "  def sound(self):\\\n",
        "    pass\n",
        "\n",
        "class Cow(Animal):\n",
        "    def sound(self):\n",
        "      return \"hummmaaaa\"\n",
        "\n",
        "class Sheep(Animal):\n",
        "    def sound(self):\n",
        "        return \"mehh\"\n",
        "\n",
        "c1=Cow()\n",
        "print(c1.sound())\n",
        "\n",
        "s1=Sheep()\n",
        "print(s1.sound())\n",
        "\n",
        "\n",
        "\n",
        "\n"
      ],
      "metadata": {
        "colab": {
          "base_uri": "https://localhost:8080/"
        },
        "id": "Z8OJU5aGo8wY",
        "outputId": "8039c9e2-035a-4663-b15d-725525f85909"
      },
      "execution_count": null,
      "outputs": [
        {
          "output_type": "stream",
          "name": "stdout",
          "text": [
            "hummmaaaa\n",
            "mehh\n"
          ]
        }
      ]
    },
    {
      "cell_type": "code",
      "source": [
        "# 17. Create a class Book with attributes title, author, and year_published. Add a method get_book_info() that\n",
        "# returns a formatted string with the book's details\n",
        "\n",
        "class Book:\n",
        "  def __init__(self,title, author, year_published):\n",
        "    self._title=title\n",
        "    self._author=author\n",
        "    self._year_published=year_published\n",
        "\n",
        "  def get_book_info(self):\n",
        "    return f\" {self._title} by {self._author} , published on {self._year_published} \"\n",
        "\n",
        "b1=Book(\"Harry potter\",\"J K Rowling\",\"26 June 1997\")\n",
        "\n",
        "print(b1.get_book_info())"
      ],
      "metadata": {
        "id": "g_7rvs0Xi6vw",
        "colab": {
          "base_uri": "https://localhost:8080/"
        },
        "outputId": "a0705b42-4ba2-4659-8b71-8de80d6c5ff6"
      },
      "execution_count": null,
      "outputs": [
        {
          "output_type": "stream",
          "name": "stdout",
          "text": [
            " Harry potter by J K Rowling , published on 26 June 1997 \n"
          ]
        }
      ]
    },
    {
      "cell_type": "code",
      "source": [
        "#  18. Create a class House with attributes address and price. Create a derived class Mansion that adds an\n",
        "# attribute number_of_rooms.\n",
        "\n",
        "class House:\n",
        "  def __init__(self, address, price):\n",
        "    self.address=address\n",
        "    self.price=price\n",
        "\n",
        "class Mansion(House):\n",
        "   def __init__(self, address, price, number_of_rooms):\n",
        "  #def __init__(self,address,price,num):\n",
        "    super().__init__(address , price)\n",
        "    self.number_of_rooms = number_of_rooms\n",
        "\n",
        "m1 = Mansion(\"123 abc\", 150, 7)\n",
        "\n",
        "print(\"Address:\", m1.address)\n",
        "print(\"Price:\", m1.price)\n",
        "print(\"Number of Rooms:\", m1.number_of_rooms)\n",
        "\n"
      ],
      "metadata": {
        "colab": {
          "base_uri": "https://localhost:8080/"
        },
        "id": "19zOQWMAfLyh",
        "outputId": "d80f2d57-15bb-426b-ffea-aaadac34aaef"
      },
      "execution_count": null,
      "outputs": [
        {
          "output_type": "stream",
          "name": "stdout",
          "text": [
            "Address: 123 abc\n",
            "Price: 150\n",
            "Number of Rooms: 7\n"
          ]
        }
      ]
    }
  ]
}