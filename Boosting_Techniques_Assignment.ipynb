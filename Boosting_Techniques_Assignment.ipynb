{
  "nbformat": 4,
  "nbformat_minor": 0,
  "metadata": {
    "colab": {
      "provenance": []
    },
    "kernelspec": {
      "name": "python3",
      "display_name": "Python 3"
    },
    "language_info": {
      "name": "python"
    }
  },
  "cells": [
    {
      "cell_type": "markdown",
      "source": [
        "**Question 1:  What is Boosting in Machine Learning? Explain how it improves weak learners.**\n",
        "\n",
        "**Answer:**\n",
        "Boosting in Machine Learning is an ensemble learning technique that combines multiple weak learners (models that perform slightly better than random guessing, such as shallow decision trees) to build a strong predictive model.\n",
        "\n",
        "How it improves weak learners:\n",
        "* By sequentially correcting mistakes of previous models, boosting reduces bias and builds a more accurate model.\n",
        "* Each weak learner is forced to focus on the hard-to-predict instances, leading to improved overall performance.\n",
        "* The final boosted model is usually much more powerful than a single weak learner."
      ],
      "metadata": {
        "id": "6NSospNx1rdL"
      }
    },
    {
      "cell_type": "markdown",
      "source": [
        "**Question 2: What is the difference between AdaBoost and Gradient Boosting in terms of how models are trained?**\n",
        "\n",
        "**Answer:** The key difference between AdaBoost and Gradient Boosting lies in how they train subsequent models and update weights/loss:\n",
        "\n",
        "*AdaBoost (Adaptive Boosting):*\n",
        "\n",
        "* Assigns weights to training samples. Initially, all samples have equal weights.\n",
        "* After each weak learner (e.g., decision stump) is trained, it increases the weights of misclassified samples so the next learner focuses more on those difficult cases.\n",
        "* The final model is a weighted majority vote (classification) or weighted sum (regression) of all weak learners.\n",
        "\n",
        "*Gradient Boosting:*\n",
        "* Instead of updating sample weights, it fits each new learner to the residual errors (gradients of the loss function) made by the previous model.\n",
        "* Uses gradient descent to minimize a chosen loss function (e.g., log loss, MSE).\n",
        "* The final model is built by sequentially adding learners to correct errors, with each learner contributing a scaled step toward minimizing loss."
      ],
      "metadata": {
        "id": "gMgeBRwM2bGw"
      }
    },
    {
      "cell_type": "markdown",
      "source": [
        "**Question 3: How does regularization help in XGBoost?**\n",
        "\n",
        "**Answer:** Regularization in XGBoost (Extreme Gradient Boosting) helps improve generalization and prevent overfitting by adding penalty terms to the objective function. Unlike standard Gradient Boosting, XGBoost includes both L1 (Lasso) and L2 (Ridge) regularization."
      ],
      "metadata": {
        "id": "07QkhjgE3BYr"
      }
    },
    {
      "cell_type": "markdown",
      "source": [
        "**Question 4: Why is CatBoost considered efficient for handling categorical data?**\n",
        "\n",
        "**Answer:** CatBoost is considered highly efficient for handling categorical data because it has a built-in mechanism to process categorical features directly, without requiring manual preprocessing like one-hot encoding or label encoding."
      ],
      "metadata": {
        "id": "XiJWYWln3bZA"
      }
    },
    {
      "cell_type": "markdown",
      "source": [
        "**Question 5: What are some real-world applications where boosting techniques are preferred over bagging methods?**\n",
        "\n",
        "**Answer:**Boosting techniques are often preferred over bagging methods when the goal is to achieve higher predictive accuracy and handle complex decision boundaries. Since boosting reduces bias by focusing on hard-to-classify samples, it performs well in many real-world applications where fine-grained distinctions are needed.\n",
        "\n",
        "Some real-world applications:\n",
        "\n",
        "1. Finance (Credit Scoring & Fraud Detection):\n",
        "* Boosting models (e.g., XGBoost, LightGBM) are widely used to detect fraudulent transactions and predict loan defaults, where even small misclassifications can have large consequences.\n",
        "\n",
        "2. Healthcare (Disease Prediction & Medical Diagnosis):\n",
        "* Boosting helps improve diagnostic accuracy in detecting diseases like cancer or diabetes, where reducing false negatives is critical.\n",
        "\n",
        "3. E-commerce & Marketing (Customer Churn Prediction / Recommendation Systems):\n",
        "\n",
        "* Boosting captures subtle patterns in customer behavior, improving personalized recommendations and churn prediction.\n",
        "\n"
      ],
      "metadata": {
        "id": "KYWXqqLs33HK"
      }
    },
    {
      "cell_type": "code",
      "source": [
        "'''\n",
        "Question 6: Write a Python program to:\n",
        "● Train an AdaBoost Classifier on the Breast Cancer dataset\n",
        "● Print the model accuracy\n",
        "(Include your Python code and output in the code box below.)\n",
        "\n",
        "Answer:\n",
        "'''\n",
        "\n",
        "# Import required libraries\n",
        "from sklearn.datasets import load_breast_cancer\n",
        "from sklearn.model_selection import train_test_split\n",
        "from sklearn.ensemble import AdaBoostClassifier\n",
        "from sklearn.metrics import accuracy_score\n",
        "\n",
        "# 1. Load dataset\n",
        "data = load_breast_cancer()\n",
        "X, y = data.data, data.target\n",
        "\n",
        "# 2. Split dataset into training and testing sets\n",
        "X_train, X_test, y_train, y_test = train_test_split(\n",
        "    X, y, test_size=0.2, random_state=42\n",
        ")\n",
        "\n",
        "# 3. Initialize and train AdaBoost Classifier\n",
        "model = AdaBoostClassifier(n_estimators=100, random_state=42)\n",
        "model.fit(X_train, y_train)\n",
        "\n",
        "# 4. Make predictions\n",
        "y_pred = model.predict(X_test)\n",
        "\n",
        "# 5. Calculate accuracy\n",
        "accuracy = accuracy_score(y_test, y_pred)\n",
        "print(\"Model Accuracy:\", accuracy)\n"
      ],
      "metadata": {
        "colab": {
          "base_uri": "https://localhost:8080/"
        },
        "id": "Sgv2xRxu4mRg",
        "outputId": "8da115be-157c-4634-d0b9-31816709f715"
      },
      "execution_count": 3,
      "outputs": [
        {
          "output_type": "stream",
          "name": "stdout",
          "text": [
            "Model Accuracy: 0.9736842105263158\n"
          ]
        }
      ]
    },
    {
      "cell_type": "code",
      "source": [
        "'''\n",
        "Question 7:  Write a Python program to:\n",
        "● Train a Gradient Boosting Regressor on the California Housing dataset\n",
        "● Evaluate performance using R-squared score\n",
        "(Include your Python code and output in the code box below.)\n",
        "\n",
        "Answer:\n",
        "'''\n",
        "# Import required libraries\n",
        "from sklearn.datasets import fetch_california_housing\n",
        "from sklearn.model_selection import train_test_split\n",
        "from sklearn.ensemble import GradientBoostingRegressor\n",
        "from sklearn.metrics import r2_score\n",
        "\n",
        "# 1. Load dataset\n",
        "data = fetch_california_housing()\n",
        "X, y = data.data, data.target\n",
        "\n",
        "# 2. Split dataset into training and testing sets\n",
        "X_train, X_test, y_train, y_test = train_test_split(\n",
        "    X, y, test_size=0.2, random_state=42\n",
        ")\n",
        "\n",
        "# 3. Initialize and train Gradient Boosting Regressor\n",
        "model = GradientBoostingRegressor(n_estimators=200, learning_rate=0.1, max_depth=3, random_state=42)\n",
        "model.fit(X_train, y_train)\n",
        "\n",
        "# 4. Make predictions\n",
        "y_pred = model.predict(X_test)\n",
        "\n",
        "# 5. Evaluate performance using R-squared score\n",
        "r2 = r2_score(y_test, y_pred)\n",
        "print(\"R-squared Score:\", r2)\n"
      ],
      "metadata": {
        "colab": {
          "base_uri": "https://localhost:8080/"
        },
        "id": "mQeYrDJd425G",
        "outputId": "b1689ad1-4001-4868-b7a1-f1661c1e81fb"
      },
      "execution_count": 4,
      "outputs": [
        {
          "output_type": "stream",
          "name": "stdout",
          "text": [
            "R-squared Score: 0.8004451261281281\n"
          ]
        }
      ]
    },
    {
      "cell_type": "code",
      "source": [
        "'''\n",
        "Question 8: Write a Python program to:\n",
        "● Train an XGBoost Classifier on the Breast Cancer dataset\n",
        "● Tune the learning rate using GridSearchCV\n",
        "● Print the best parameters and accuracy\n",
        "(Include your Python code and output in the code box below.)\n",
        "\n",
        "Answer:\n",
        "'''\n",
        "# Import required libraries\n",
        "from sklearn.datasets import load_breast_cancer\n",
        "from sklearn.model_selection import train_test_split, GridSearchCV\n",
        "from sklearn.metrics import accuracy_score\n",
        "from xgboost import XGBClassifier\n",
        "\n",
        "import warnings\n",
        "warnings.filterwarnings('ignore')\n",
        "\n",
        "# 1. Load dataset\n",
        "data = load_breast_cancer()\n",
        "X, y = data.data, data.target\n",
        "\n",
        "# 2. Split dataset\n",
        "X_train, X_test, y_train, y_test = train_test_split(\n",
        "    X, y, test_size=0.2, random_state=42\n",
        ")\n",
        "\n",
        "# 3. Define XGBoost Classifier\n",
        "xgb_model = XGBClassifier(use_label_encoder=False, eval_metric='logloss', random_state=42)\n",
        "\n",
        "# 4. Define parameter grid for learning_rate\n",
        "param_grid = {\n",
        "    'learning_rate': [0.01, 0.05, 0.1, 0.2, 0.3]\n",
        "}\n",
        "\n",
        "# 5. Perform GridSearchCV\n",
        "grid_search = GridSearchCV(\n",
        "    estimator=xgb_model,\n",
        "    param_grid=param_grid,\n",
        "    cv=5,\n",
        "    scoring='accuracy',\n",
        "    n_jobs=-1\n",
        ")\n",
        "\n",
        "grid_search.fit(X_train, y_train)\n",
        "\n",
        "# 6. Get best parameters\n",
        "print(\"Best Parameters:\", grid_search.best_params_)\n",
        "\n",
        "# 7. Evaluate on test set\n",
        "best_model = grid_search.best_estimator_\n",
        "y_pred = best_model.predict(X_test)\n",
        "accuracy = accuracy_score(y_test, y_pred)\n",
        "print(\"Model Accuracy:\", accuracy)\n"
      ],
      "metadata": {
        "colab": {
          "base_uri": "https://localhost:8080/"
        },
        "id": "jzwCQrrS5zZH",
        "outputId": "00fa5080-2309-48ef-c927-3b555de2e656"
      },
      "execution_count": 5,
      "outputs": [
        {
          "output_type": "stream",
          "name": "stdout",
          "text": [
            "Best Parameters: {'learning_rate': 0.2}\n",
            "Model Accuracy: 0.956140350877193\n"
          ]
        }
      ]
    },
    {
      "cell_type": "code",
      "source": [
        "\n",
        "!pip install catboost\n"
      ],
      "metadata": {
        "colab": {
          "base_uri": "https://localhost:8080/"
        },
        "id": "pCfiJZ9DhTrH",
        "outputId": "ef730b68-3934-4cf2-cc91-35de7f31c439"
      },
      "execution_count": 10,
      "outputs": [
        {
          "output_type": "stream",
          "name": "stdout",
          "text": [
            "Requirement already satisfied: catboost in /usr/local/lib/python3.12/dist-packages (1.2.8)\n",
            "Requirement already satisfied: graphviz in /usr/local/lib/python3.12/dist-packages (from catboost) (0.21)\n",
            "Requirement already satisfied: matplotlib in /usr/local/lib/python3.12/dist-packages (from catboost) (3.10.0)\n",
            "Requirement already satisfied: numpy<3.0,>=1.16.0 in /usr/local/lib/python3.12/dist-packages (from catboost) (2.0.2)\n",
            "Requirement already satisfied: pandas>=0.24 in /usr/local/lib/python3.12/dist-packages (from catboost) (2.2.2)\n",
            "Requirement already satisfied: scipy in /usr/local/lib/python3.12/dist-packages (from catboost) (1.16.1)\n",
            "Requirement already satisfied: plotly in /usr/local/lib/python3.12/dist-packages (from catboost) (5.24.1)\n",
            "Requirement already satisfied: six in /usr/local/lib/python3.12/dist-packages (from catboost) (1.17.0)\n",
            "Requirement already satisfied: python-dateutil>=2.8.2 in /usr/local/lib/python3.12/dist-packages (from pandas>=0.24->catboost) (2.9.0.post0)\n",
            "Requirement already satisfied: pytz>=2020.1 in /usr/local/lib/python3.12/dist-packages (from pandas>=0.24->catboost) (2025.2)\n",
            "Requirement already satisfied: tzdata>=2022.7 in /usr/local/lib/python3.12/dist-packages (from pandas>=0.24->catboost) (2025.2)\n",
            "Requirement already satisfied: contourpy>=1.0.1 in /usr/local/lib/python3.12/dist-packages (from matplotlib->catboost) (1.3.3)\n",
            "Requirement already satisfied: cycler>=0.10 in /usr/local/lib/python3.12/dist-packages (from matplotlib->catboost) (0.12.1)\n",
            "Requirement already satisfied: fonttools>=4.22.0 in /usr/local/lib/python3.12/dist-packages (from matplotlib->catboost) (4.59.1)\n",
            "Requirement already satisfied: kiwisolver>=1.3.1 in /usr/local/lib/python3.12/dist-packages (from matplotlib->catboost) (1.4.9)\n",
            "Requirement already satisfied: packaging>=20.0 in /usr/local/lib/python3.12/dist-packages (from matplotlib->catboost) (25.0)\n",
            "Requirement already satisfied: pillow>=8 in /usr/local/lib/python3.12/dist-packages (from matplotlib->catboost) (11.3.0)\n",
            "Requirement already satisfied: pyparsing>=2.3.1 in /usr/local/lib/python3.12/dist-packages (from matplotlib->catboost) (3.2.3)\n",
            "Requirement already satisfied: tenacity>=6.2.0 in /usr/local/lib/python3.12/dist-packages (from plotly->catboost) (8.5.0)\n"
          ]
        }
      ]
    },
    {
      "cell_type": "code",
      "source": [
        "'''\n",
        "Question 9: Write a Python program to:\n",
        "● Train a CatBoost Classifier\n",
        "● Plot the confusion matrix using seaborn\n",
        "(Include your Python code and output in the code box below.)\n",
        "\n",
        "Answer:\n",
        "'''\n",
        "\n",
        "# Import required libraries\n",
        "from sklearn.datasets import load_breast_cancer\n",
        "from sklearn.model_selection import train_test_split\n",
        "from sklearn.metrics import confusion_matrix, accuracy_score\n",
        "from catboost import CatBoostClassifier\n",
        "import seaborn as sns\n",
        "import matplotlib.pyplot as plt\n",
        "\n",
        "# 1. Load dataset\n",
        "data = load_breast_cancer()\n",
        "X, y = data.data, data.target\n",
        "\n",
        "# 2. Split dataset\n",
        "X_train, X_test, y_train, y_test = train_test_split(\n",
        "    X, y, test_size=0.2, random_state=42\n",
        ")\n",
        "\n",
        "# 3. Initialize and train CatBoost Classifier\n",
        "model = CatBoostClassifier(iterations=200, learning_rate=0.1, depth=6, verbose=0, random_state=42)\n",
        "model.fit(X_train, y_train)\n",
        "\n",
        "# 4. Predictions\n",
        "y_pred = model.predict(X_test)\n",
        "\n",
        "# 5. Accuracy\n",
        "acc = accuracy_score(y_test, y_pred)\n",
        "print(\"Model Accuracy:\", acc)\n",
        "\n",
        "# 6. Confusion Matrix\n",
        "cm = confusion_matrix(y_test, y_pred)\n",
        "\n",
        "# 7. Plot using seaborn\n",
        "plt.figure(figsize=(6,4))\n",
        "sns.heatmap(cm, annot=True, fmt='d', cmap='Blues',\n",
        "            xticklabels=data.target_names,\n",
        "            yticklabels=data.target_names)\n",
        "plt.xlabel(\"Predicted Label\")\n",
        "plt.ylabel(\"True Label\")\n",
        "plt.title(\"Confusion Matrix - CatBoost Classifier\")\n",
        "plt.show()\n"
      ],
      "metadata": {
        "colab": {
          "base_uri": "https://localhost:8080/",
          "height": 427
        },
        "id": "dOV7c0i46Mli",
        "outputId": "406eb252-b938-4567-93a0-d7d169792f03"
      },
      "execution_count": 9,
      "outputs": [
        {
          "output_type": "stream",
          "name": "stdout",
          "text": [
            "Model Accuracy: 0.9649122807017544\n"
          ]
        },
        {
          "output_type": "display_data",
          "data": {
            "text/plain": [
              "<Figure size 600x400 with 2 Axes>"
            ],
            "image/png": "[encoded data removed]"
          },
          "metadata": {}
        }
      ]
    },
    {
      "cell_type": "markdown",
      "source": [
        "Question 10: You're working for a FinTech company trying to predict loan default using customer demographics and transaction behavior.\n",
        "The dataset is imbalanced, contains missing values, and has both numeric and\n",
        "categorical features.\n",
        "\n",
        "Describe your step-by-step data science pipeline using boosting techniques:\n",
        "* Data preprocessing & handling missing/categorical values\n",
        "* Choice between AdaBoost, XGBoost, or CatBoost\n",
        "* Hyperparameter tuning strategy\n",
        "* Evaluation metrics you'd choose and why\n",
        "* How the business would benefit from your model\n",
        "\n",
        "(Include your Python code and output in the code box below.)\n",
        "\n",
        "**Answer:**\n",
        "1. Preprocessing (missing + categorical):\n",
        "* Split train/test with stratification.\n",
        "* Numeric: SimpleImputer(strategy=\"median\") → (optional) StandardScaler (trees don’t need scaling but helps if you try linear models too).\n",
        "* Categorical: SimpleImputer(strategy=\"most_frequent\") → OneHotEncoder(handle_unknown=\"ignore\").\n",
        "* Use a ColumnTransformer inside a Pipeline to avoid leakage.\n",
        "\n",
        "2. Algorithm choice (AdaBoost vs XGBoost vs CatBoost):\n",
        "* Prefer XGBoost for tabular, imbalanced data with mixed feature types; set scale_pos_weight = (#neg / #pos); supports regularization and robust tree growth.\n",
        "* CatBoost is great when many categorical features exist (native handling, ordered boosting).\n",
        "* AdaBoost is a light baseline; less flexible than gradient-boosting families, but good fallback.\n",
        "\n",
        "3. Hyperparameter tuning:\n",
        "* Use RandomizedSearchCV (faster than grid) with stratified CV and ROC-AUC scoring; tune n_estimators, learning_rate, max_depth, subsample, colsample_bytree (XGB).\n",
        "* Early stopping if library supports it (kept simple here).\n",
        "\n",
        "4. Evaluation metrics (why):\n",
        "* ROC-AUC (threshold-free, good overall separability).\n",
        "* PR-AUC (more informative for imbalanced data).\n",
        "* F1 (balance precision/recall).\n",
        "* Confusion matrix + threshold tuning if business wants fewer false negatives (missed defaulters) or fewer false positives (unnecessarily rejected).\n",
        "\n",
        "5. Business impact:\n",
        "* Better risk stratification -> lower default rates.\n",
        "* Explainable features (gain/importance, SHAP) -> compliant decisions.\n",
        "* Profit-aware thresholds -> maximize expected profit / minimize loss (e.g., cost matrix for FP/FN).\n",
        "* A/B deploy with monitoring (drift, stability, fairness)."
      ],
      "metadata": {
        "id": "d3Yc-4o_68YY"
      }
    },
    {
      "cell_type": "code",
      "source": [
        "'''\n",
        "Question 10: You're working for a FinTech company trying to predict loan default using\n",
        "customer demographics and transaction behavior. The dataset is imbalanced, contains missing values, and has both numeric and\n",
        "categorical features.\n",
        "\n",
        "Describe your step-by-step data science pipeline using boosting techniques:\n",
        "● Data preprocessing & handling missing/categorical values\n",
        "● Choice between AdaBoost, XGBoost, or CatBoost\n",
        "● Hyperparameter tuning strategy\n",
        "● Evaluation metrics you'd choose and why\n",
        "● How the business would benefit from your model\n",
        "\n",
        "(Include your Python code and output in the code box below.)\n",
        "Answer:\n",
        "\n",
        "'''\n",
        "# Import libraries\n",
        "from sklearn.datasets import load_breast_cancer\n",
        "from sklearn.model_selection import train_test_split, GridSearchCV\n",
        "from sklearn.metrics import classification_report, roc_auc_score\n",
        "from xgboost import XGBClassifier\n",
        "\n",
        "import warnings\n",
        "warnings.filterwarnings('ignore')\n",
        "\n",
        "# 1. Load dataset (loan dataset can be similar in structure)\n",
        "data = load_breast_cancer()\n",
        "X, y = data.data, data.target\n",
        "\n",
        "# 2. Split data\n",
        "X_train, X_test, y_train, y_test = train_test_split(\n",
        "    X, y, test_size=0.2, stratify=y, random_state=42\n",
        ")\n",
        "\n",
        "# 3. Define XGBoost with grid search for learning_rate\n",
        "param_grid = {\"learning_rate\": [0.01, 0.05, 0.1]}\n",
        "xgb = XGBClassifier(use_label_encoder=False, eval_metric=\"logloss\", random_state=42)\n",
        "\n",
        "grid = GridSearchCV(xgb, param_grid, cv=3, scoring=\"roc_auc\")\n",
        "grid.fit(X_train, y_train)\n",
        "\n",
        "# 4. Evaluate best model\n",
        "best_model = grid.best_estimator_\n",
        "y_pred = best_model.predict(X_test)\n",
        "y_proba = best_model.predict_proba(X_test)[:,1]\n",
        "\n",
        "print(\"Best Params:\", grid.best_params_)\n",
        "print(\"ROC-AUC:\", roc_auc_score(y_test, y_proba))\n",
        "print(\"\\nClassification Report:\\n\", classification_report(y_test, y_pred))\n"
      ],
      "metadata": {
        "id": "E44UeUAT6zsf",
        "colab": {
          "base_uri": "https://localhost:8080/"
        },
        "outputId": "3ed97721-cb73-474d-ffe6-0ba4b6faedd7"
      },
      "execution_count": 2,
      "outputs": [
        {
          "output_type": "stream",
          "name": "stdout",
          "text": [
            "Best Params: {'learning_rate': 0.1}\n",
            "ROC-AUC: 0.9923941798941799\n",
            "\n",
            "Classification Report:\n",
            "               precision    recall  f1-score   support\n",
            "\n",
            "           0       0.95      0.90      0.93        42\n",
            "           1       0.95      0.97      0.96        72\n",
            "\n",
            "    accuracy                           0.95       114\n",
            "   macro avg       0.95      0.94      0.94       114\n",
            "weighted avg       0.95      0.95      0.95       114\n",
            "\n"
          ]
        }
      ]
    }
  ]
}