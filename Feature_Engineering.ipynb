{
  "nbformat": 4,
  "nbformat_minor": 0,
  "metadata": {
    "colab": {
      "provenance": [],
      "collapsed_sections": [
        "27DQ6EOqPGWN"
      ]
    },
    "kernelspec": {
      "name": "python3",
      "display_name": "Python 3"
    },
    "language_info": {
      "name": "python"
    }
  },
  "cells": [
    {
      "cell_type": "markdown",
      "source": [
        "#Assignment Questions"
      ],
      "metadata": {
        "id": "27DQ6EOqPGWN"
      }
    },
    {
      "cell_type": "markdown",
      "source": [
        "**1.What is a parameter?**\n",
        "* A parameter is a variable in a machine learning model that is learned from the data during training (e.g., weights in linear regression)."
      ],
      "metadata": {
        "id": "McBPsz7mPIUb"
      }
    },
    {
      "cell_type": "markdown",
      "source": [
        "**2.What is correlation? What does negative correlation mean?**\n",
        "* Correlation measures the strength and direction of a linear relationship between two variables. It ranges from -1 to 1.\n",
        "\n",
        "* A negative correlation means that as one variable increases, the other decreases. For example, hours spent watching TV vs. exam scores."
      ],
      "metadata": {
        "id": "P2gJ9hzOPl5b"
      }
    },
    {
      "cell_type": "markdown",
      "source": [
        "**3.Define Machine Learning. What are the main components in Machine Learning?**\n",
        "\n",
        "-> Machine Learning is a subset of AI where computers learn patterns from data to make predictions or decisions without explicit programming.\n",
        "\n",
        "Main components:\n",
        "* Data\n",
        "* Model/Algorithm\n",
        "* Loss function\n",
        "* Optimizer\n",
        "* Evaluation Metrics"
      ],
      "metadata": {
        "id": "5VyggXMvP0lW"
      }
    },
    {
      "cell_type": "markdown",
      "source": [
        "**4.How does loss value help in determining whether the model is good or not?**\n",
        "* The loss value quantifies the error between predicted and actual values. A lower loss means a better performing model."
      ],
      "metadata": {
        "id": "JE73PefhQL6N"
      }
    },
    {
      "cell_type": "markdown",
      "source": [
        "**5.What are continuous and categorical variables?**\n",
        "* Continuous variables: Numerical, with infinite values (e.g., height, weight).\n",
        "* Categorical variables: Represent categories (e.g., gender, color)."
      ],
      "metadata": {
        "id": "XslkUbQnQXCL"
      }
    },
    {
      "cell_type": "markdown",
      "source": [
        "**6.How do we handle categorical variables in Machine Learning? Common techniques?**\n",
        "Common techniques include:\n",
        "* Label Encoding – converts categories to numbers.\n",
        "* One-Hot Encoding – creates binary columns for each category.\n",
        "* Ordinal Encoding – for ordered categories."
      ],
      "metadata": {
        "id": "isrJWWzlQfyT"
      }
    },
    {
      "cell_type": "markdown",
      "source": [
        "**7.What do you mean by training and testing a dataset?**\n",
        "* Training set: Used to train the model.\n",
        "* Test set: Used to evaluate the model’s performance on unseen data."
      ],
      "metadata": {
        "id": "nbBqqwPlQyQ0"
      }
    },
    {
      "cell_type": "markdown",
      "source": [
        "**8.What is sklearn.preprocessing?**\n",
        "\n",
        "-> sklearn.preprocessing is a module in Scikit-learn for data preprocessing like:\n",
        "* Scaling (e.g., StandardScaler, MinMaxScaler)\n",
        "* Encoding (LabelEncoder, OneHotEncoder)\n",
        "* Normalization"
      ],
      "metadata": {
        "id": "3Jx3YVQ-Q6AS"
      }
    },
    {
      "cell_type": "markdown",
      "source": [
        "**9.What is a Test set?**\n",
        "* The test set is a separate portion of data used to evaluate the final model's performance. It is never used during training."
      ],
      "metadata": {
        "id": "xI3vVCEfRLDI"
      }
    },
    {
      "cell_type": "markdown",
      "source": [
        "**10.How do we split data for model fitting (training and testing) in Python?**\n",
        "* Using train_test_split from sklearn.model_selection:\n",
        "\n",
        "\n",
        "    from sklearn.model_selection import train_test_split\n",
        "    X_train, X_test, y_train, y_test = train_test_split(X, y, test_size=0.2, random_state=42)\n",
        "\n",
        "How do you approach a Machine Learning problem?\n",
        "* Understand the problem\n",
        "* Collect and clean data\n",
        "* Perform Exploratory Data Analysis (EDA)\n",
        "* Preprocess data (encoding, scaling)\n",
        "* Split data\n",
        "* Train model\n",
        "* Evaluate using metrics\n",
        "* Tune parameters (if needed)"
      ],
      "metadata": {
        "id": "bG8VhoI3RW5h"
      }
    },
    {
      "cell_type": "markdown",
      "source": [
        "**11.Why do we have to perform EDA before fitting a model to the data?**\n",
        "\n",
        " EDA (Exploratory Data Analysis) helps:\n",
        "* Understand data structure\n",
        "* Detect outliers or missing values\n",
        "* Find relationships and patterns\n",
        "* Choose proper preprocessing techniques"
      ],
      "metadata": {
        "id": "FN0OBVrfSTaF"
      }
    },
    {
      "cell_type": "markdown",
      "source": [
        "**12.What is correlation?**\n",
        "* Correlation measures the strength and direction of a linear relationship between two variables. It ranges from -1 to 1."
      ],
      "metadata": {
        "id": "clejJilfSli4"
      }
    },
    {
      "cell_type": "markdown",
      "source": [
        "**13.What does negative correlation mean?**\n",
        "* A negative correlation means that as one variable increases, the other decreases. For example, hours spent watching TV vs. exam scores."
      ],
      "metadata": {
        "id": "ZU0fRKFSThUQ"
      }
    },
    {
      "cell_type": "markdown",
      "source": [
        "**14.How can you find correlation between variables in Python?**\n",
        "\n",
        "Using Pandas: df.corr()\n",
        "   \n",
        "    import seaborn as sns\n",
        "    sns.heatmap(df.corr(), annot=True)\n"
      ],
      "metadata": {
        "id": "-LJnFXjrTuJN"
      }
    },
    {
      "cell_type": "markdown",
      "source": [
        "15.What is causation? Difference between correlation and causation?\n",
        "Causation means one variable directly affects another. **bold text**\n",
        "* Correlation: variables move together.\n",
        "* Causation: change in one causes change in another.\n",
        "\n",
        "Example:\n",
        "\n",
        "Correlation: Ice cream sales and drowning rates rise together.\n",
        "\n",
        "Causation: Hot weather (third factor) causes both – not ice cream causing drowning."
      ],
      "metadata": {
        "id": "fPqBd2IOUEZ0"
      }
    },
    {
      "cell_type": "markdown",
      "source": [
        "**16.What is an Optimizer? What are different types of optimizers?**\n",
        "\n",
        "->An optimizer minimizes the loss function and adjusts model parameters.\n",
        "\n",
        "Common types:\n",
        "* SGD (Stochastic Gradient Descent) – updates using each sample\n",
        "* Adam (Adaptive Moment Estimation) – combines momentum and RMSprop\n",
        "* RMSprop – adapts learning rate for each parameter"
      ],
      "metadata": {
        "id": "biORBS6xUj93"
      }
    },
    {
      "cell_type": "markdown",
      "source": [
        "17.What is sklearn.linear_model?\n",
        "\n",
        "->It is a module in Scikit-learn that contains linear models like:\n",
        "* LinearRegression\n",
        "* LogisticRegression\n",
        "* Ridge, Lasso, etc."
      ],
      "metadata": {
        "id": "p7dfBIFmUtNV"
      }
    },
    {
      "cell_type": "markdown",
      "source": [
        "**18.What does model.fit() do? What arguments must be given?**\n",
        "\n",
        "->The model.fit() method is used to train a machine learning model on a dataset. It finds the optimal parameters (like weights and biases) that minimize the loss function by learning patterns from the input data.\n",
        "\n",
        "X:  A 2D array-like structure (NumPy array, Pandas DataFrame, or list of lists) containing the input features (independent variables).\n",
        "\n",
        "y: A 1D array-like structure containing the target values (dependent variable or labels).\n"
      ],
      "metadata": {
        "id": "4mZiHiTWU8Ix"
      }
    },
    {
      "cell_type": "markdown",
      "source": [
        "**19.What does model.predict() do? What arguments must be given?**\n",
        "\n",
        "->The model.predict() function is used to generate predictions from a trained machine learning model.\n",
        "\n",
        "It takes input features (usually unseen data such as the test set) and returns the model's predicted output (e.g., class labels or numeric values)."
      ],
      "metadata": {
        "id": "_nvBFRUrVFn0"
      }
    },
    {
      "cell_type": "markdown",
      "source": [
        "**20.What are continuous and categorical variables?**\n",
        "\n",
        "Continuous variables: Numerical, with infinite values (e.g., height, weight).\n",
        "Categorical variables: Represent categories (e.g., gender, color)."
      ],
      "metadata": {
        "id": "o4pBef1ycH8_"
      }
    },
    {
      "cell_type": "markdown",
      "source": [
        "**21.What is feature scaling? How does it help in Machine Learning?**\n",
        "* Feature scaling standardizes data to a fixed range (e.g., 0–1 or mean=0, std=1). Helps algorithms like SVM, KNN, and gradient descent converge faster and more accurately."
      ],
      "metadata": {
        "id": "3H59QoxWcaD1"
      }
    },
    {
      "cell_type": "markdown",
      "source": [
        "**22.How do we perform scaling in Python?**\n",
        "* Using StandardScaler or MinMaxScaler:\n",
        "\n",
        "\n",
        "    from sklearn.preprocessing import StandardScaler\n",
        "    scaler = StandardScaler()\n",
        "    X_scaled = scaler.fit_transform(X)"
      ],
      "metadata": {
        "id": "j07ivfJLchAf"
      }
    },
    {
      "cell_type": "markdown",
      "source": [
        "**23.What is sklearn.preprocessing?**\n",
        "\n",
        "-> sklearn.preprocessing is a module in Scikit-learn for data preprocessing like:\n",
        "\n",
        "Scaling (e.g., StandardScaler, MinMaxScaler)\n",
        "Encoding (LabelEncoder, OneHotEncoder)\n",
        "Normalization"
      ],
      "metadata": {
        "id": "aYO6qYKAc3UF"
      }
    },
    {
      "cell_type": "markdown",
      "source": [
        "**24.How do we split data for model fitting (training and testing) in Python?**\n",
        "\n",
        "Using train_test_split from sklearn.model_selection:\n",
        "\n",
        "\n",
        "    from sklearn.model_selection import train_test_split\n",
        "    X_train, X_test, y_train, y_test = train_test_split(X, y, test_size=0.2, random_state=42)"
      ],
      "metadata": {
        "id": "RhqVZKdvc6FQ"
      }
    },
    {
      "cell_type": "markdown",
      "source": [
        "**25.Explain data encoding?**\n",
        "\n",
        "->Data encoding converts categorical data into numerical format so that ML models can use them. Techniques:\n",
        "* Label Encoding: assigns unique integer to each category\n",
        "* One-Hot Encoding: creates binary columns for each category\n"
      ],
      "metadata": {
        "id": "B7dGXQlsdLo7"
      }
    }
  ]
}